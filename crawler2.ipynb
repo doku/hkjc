{
 "cells": [
  {
   "cell_type": "code",
   "execution_count": 424,
   "metadata": {},
   "outputs": [],
   "source": [
    "#import requests\n",
    "from selenium import webdriver\n",
    "from selenium.common.exceptions import NoSuchElementException\n",
    "from selenium.webdriver.support.wait import WebDriverWait\n",
    "from selenium.webdriver.support import expected_conditions as EC\n",
    "from selenium.webdriver.common.by import By\n",
    "\n",
    "#from bs4 import BeautifulSoup\n",
    "import pandas as pd\n",
    "import re\n",
    "import time\n",
    "#mport pickle\n",
    "import datetime\n",
    "import os\n",
    "import pickle\n",
    "import logging\n",
    "\n"
   ]
  },
  {
   "cell_type": "code",
   "execution_count": 425,
   "metadata": {},
   "outputs": [],
   "source": [
    "\n",
    "logging.basicConfig(filename='debug.log',level=logging.INFO)\n",
    "debug = False\n",
    "url = \"https://racing.hkjc.com/racing/Info/Meeting/Results/English/Local/{}\"\n"
   ]
  },
  {
   "cell_type": "code",
   "execution_count": 426,
   "metadata": {},
   "outputs": [],
   "source": [
    "\n",
    "driver = webdriver.Chrome(\"/usr/lib/chromium-browser/chromedriver\")\n",
    "driver.get(\"https://racing.hkjc.com/racing/Info/Meeting/Results/English/Local/20190101/ST/1\")\n"
   ]
  },
  {
   "cell_type": "code",
   "execution_count": 30,
   "metadata": {},
   "outputs": [],
   "source": [
    "#for p in driver.find_elements_by_xpath(\"//*[@id='results']/div[2]/table/tbody/tr/td[@nowrap='nowrap']/a\"):\n",
    "#    display(p.get_attribute(\"href\"))"
   ]
  },
  {
   "cell_type": "code",
   "execution_count": 163,
   "metadata": {},
   "outputs": [
    {
     "data": {
      "text/plain": [
       "'\\nurl_list = []\\ncurrent_i = 0\\nfor i in range(10): #(730):\\n    current_i = i\\n    target_date = datetime.datetime.now() - datetime.timedelta(days=i)\\n    driver.get(url.format(target_date.strftime(\"%Y%m%d\"))) \\n    time.sleep(5)\\n    element = WebDriverWait(driver, 10).until(lambda x: driver.find_elements_by_xpath(\"//*[@id=\\'results\\']/div[2]/table/tbody/tr/td[@nowrap=\\'nowrap\\']/a\"))\\n    \\n    for p in element:\\n        url_list.append(p.get_attribute(\"href\"))\\n    \\nprint(len(url_list))\\n'"
      ]
     },
     "execution_count": 163,
     "metadata": {},
     "output_type": "execute_result"
    }
   ],
   "source": [
    "#url = \"https://racing.hkjc.com/racing/Info/Meeting/Results/English/Local/20181216/ST/4\"\n",
    "\n",
    "\n",
    "\"\"\"\n",
    "url_list = []\n",
    "current_i = 0\n",
    "for i in range(10): #(730):\n",
    "    current_i = i\n",
    "    target_date = datetime.datetime.now() - datetime.timedelta(days=i)\n",
    "    driver.get(url.format(target_date.strftime(\"%Y%m%d\"))) \n",
    "    time.sleep(5)\n",
    "    element = WebDriverWait(driver, 10).until(lambda x: driver.find_elements_by_xpath(\"//*[@id='results']/div[2]/table/tbody/tr/td[@nowrap='nowrap']/a\"))\n",
    "    \n",
    "    for p in element:\n",
    "        url_list.append(p.get_attribute(\"href\"))\n",
    "    \n",
    "print(len(url_list))\n",
    "\"\"\""
   ]
  },
  {
   "cell_type": "code",
   "execution_count": 164,
   "metadata": {},
   "outputs": [
    {
     "data": {
      "text/plain": [
       "['https://racing.hkjc.com/racing/Info/Meeting/Results/English/Local/20190101',\n",
       " 'https://racing.hkjc.com/racing/Info/Meeting/Results/English/Local/20190101/ST/2',\n",
       " 'https://racing.hkjc.com/racing/Info/Meeting/Results/English/Local/20190101/ST/3',\n",
       " 'https://racing.hkjc.com/racing/Info/Meeting/Results/English/Local/20190101/ST/4',\n",
       " 'https://racing.hkjc.com/racing/Info/Meeting/Results/English/Local/20190101/ST/5',\n",
       " 'https://racing.hkjc.com/racing/Info/Meeting/Results/English/Local/20190101/ST/6',\n",
       " 'https://racing.hkjc.com/racing/Info/Meeting/Results/English/Local/20190101/ST/7',\n",
       " 'https://racing.hkjc.com/racing/Info/Meeting/Results/English/Local/20190101/ST/8',\n",
       " 'https://racing.hkjc.com/racing/Info/Meeting/Results/English/Local/20190101/ST/9',\n",
       " 'https://racing.hkjc.com/racing/Info/Meeting/Results/English/Local/20190101/ST/10',\n",
       " 'https://racing.hkjc.com/racing/Info/Meeting/Results/English/Local/20190101/ST/11']"
      ]
     },
     "execution_count": 164,
     "metadata": {},
     "output_type": "execute_result"
    }
   ],
   "source": [
    "#url_list"
   ]
  },
  {
   "cell_type": "code",
   "execution_count": 427,
   "metadata": {},
   "outputs": [],
   "source": [
    "# Date and track\n",
    "# //*[@id=\"results\"]/div[3]/table/tbody/tr/td[1]\n",
    "\n",
    "# //*[@id=\"results\"]/div[5]/div[2]/table\n",
    "\n",
    "def check_exists_by_xpath(page, xpath):\n",
    "    try:\n",
    "        page.find_element_by_xpath(xpath)\n",
    "    except NoSuchElementException:\n",
    "        if debug:\n",
    "            logging.info('Debug: ', xpath, page.current_url)\n",
    "        #print(\"Debug: \", xpath, page.current_url)\n",
    "        return False\n",
    "    return True\n",
    "\n",
    "\n",
    "def get_race_profile(page):\n",
    "    res = pd.read_html(page.find_element_by_xpath(\"//*[@id='results']/div[5]/div[2]/table\").get_attribute(\"outerHTML\"))[0]\n",
    "    #display(res)\n",
    "    column_name = [\"Race_type\", \"Going\", \"Handicap\", \"Course\", \\\n",
    "                   \"Winnings\", \"Run_Time\", \"Sectional_time\"]\n",
    "    #display(res)\n",
    "    result = []\n",
    "    result.append(res.iloc[0,0])\n",
    "    result.append(res.iloc[0,2])\n",
    "    result.append(res.iloc[1,0])\n",
    "    result.append(res.iloc[1,2])\n",
    "    result.append(res.iloc[2,0])\n",
    "    result.append(res.iloc[2,2:])\n",
    "    #result.append(res.iloc[2,3])\n",
    "    #result.append(res.iloc[2,4])\n",
    "    #result.append(res.iloc[2,5])\n",
    "    result.append(res.iloc[3,2:])\n",
    "    #result.append(res.iloc[3,3])\n",
    "    #result.append(res.iloc[3,4])\n",
    "    #result.append(res.iloc[3,5])\n",
    "\n",
    "    #display(result)\n",
    "    result_pd = pd.DataFrame([result], columns=column_name)\n",
    "    return result_pd\n",
    "#display(get_race_profile(driver))\n",
    "\n",
    "def get_race_date_track(page):\n",
    "    if check_exists_by_xpath(page, '//*[@id=\"results\"]/div[3]/table/tbody/tr/td[1]'):\n",
    "        race_date = page.find_element_by_xpath('//*[@id=\"results\"]/div[3]/table/tbody/tr/td[1]').text\n",
    "        #isplay(race_date)\n",
    "        re_date_match = re.search(r\"Race Meeting: (\\d{2}/\\d{2}/\\d{4})\\s+(.*)$\", race_date)\n",
    "        #isplay(re_date_match.group(2))\n",
    "        return (re_date_match.group(1), re_date_match.group(2).strip())\n",
    "    return None\n",
    "\n",
    "def get_race_number(page):\n",
    "    if check_exists_by_xpath(page, '//*[@id=\"results\"]/div[5]/div[1]'):\n",
    "        race_number = page.find_element_by_xpath('//*[@id=\"results\"]/div[5]/div[1]').text\n",
    "        re_match = re.search(r\"RACE (\\d+) \\((\\d+)\\)$\", race_number)\n",
    "        if re_match:\n",
    "            return re_match.group(2)\n",
    "    return None\n",
    "\n",
    "        \n",
    "#get_race_date_track(driver)\n",
    "#get_race_number(driver)\n",
    "\n"
   ]
  },
  {
   "cell_type": "code",
   "execution_count": 428,
   "metadata": {},
   "outputs": [],
   "source": [
    "#res = pd.read_html(driver.find_element_by_xpath(\"//*[@id='results']/div[6]/table\").get_attribute(\"outerHTML\"))[0]\n",
    "\n",
    "#display(res)\n",
    "\n",
    "\n",
    "def get_horse_placement(page):\n",
    "    result = {}\n",
    "    for i in range(15):\n",
    "        result[i] = []\n",
    "    \n",
    "    for k in page.find_elements_by_xpath(\"//*[@id='results']/div[6]/table/tbody/tr\"):\n",
    "        for i, j in enumerate(k.find_elements_by_xpath(\"td\")):\n",
    "            if i == 0:\n",
    "                result[i].append(j.text)\n",
    "            if i == 1:\n",
    "                result[i].append(j.text)\n",
    "            if i == 2:\n",
    "                result[i].append(j.text)\n",
    "                if check_exists_by_xpath(j, \"a\"):\n",
    "                    result[12].append(j.find_element_by_xpath(\"a\").get_attribute(\"href\"))\n",
    "                else:\n",
    "                    result[12].append(\"\")\n",
    "            if i == 3:\n",
    "                result[i].append(j.text)\n",
    "                if check_exists_by_xpath(j, \"a\"):\n",
    "                    result[13].append(j.find_element_by_xpath(\"a\").get_attribute(\"href\"))\n",
    "                else:\n",
    "                    result[13].append(\"\")\n",
    "            if i == 4:\n",
    "                result[i].append(j.text)\n",
    "                if check_exists_by_xpath(j, \"a\"):\n",
    "                    result[14].append(j.find_element_by_xpath(\"a\").get_attribute(\"href\"))\n",
    "                else:\n",
    "                    result[14].append(\"\")\n",
    "            if i == 5:\n",
    "                result[i].append(j.text)\n",
    "            if i == 6:\n",
    "                result[i].append(j.text)\n",
    "            if i == 7:\n",
    "                result[i].append(j.text)\n",
    "            if i == 8:\n",
    "                result[i].append(j.text)\n",
    "            if i == 9:\n",
    "                result[i].append(j.text)\n",
    "            if i == 10:\n",
    "                result[i].append(j.text)\n",
    "            if i == 11:\n",
    "                result[i].append(j.text)\n",
    "            #display(j.get_attribute(\"innerHTML\")\n",
    "    #display(result)\n",
    "    res = pd.DataFrame(result) #, columns=[\"pla\", \"horse_no\", \"horse\", \"jockey\", \"trainer\", \"actual_wt\", \"declare_horse_wt\", \"draw\", \"LBW\", \"running_position\", \"finish_time\", \"win_odds\", \"horse_url\", \"jockey_url\", \"trainer_url\"]))\n",
    "    res.columns = [\"pla\", \"horse_no\", \"horse\", \"jockey\", \"trainer\", \"actual_wt\", \"declare_horse_wt\", \"draw\", \"LBW\", \"running_position\", \"finish_time\", \"win_odds\", \"horse_url\", \"jockey_url\", \"trainer_url\"]\n",
    "    #display(res)\n",
    "    return res\n",
    "#get_horse_placement(driver)\n",
    "\n",
    "def get_dividend(page):\n",
    "    xpath_list = [\"tbody/tr[3]/td[2]\", \"tbody/tr[3]/td[3]\", \"tbody/tr[4]/td[2]\", \"tbody/tr[4]/td[3]\", \"tbody/tr[5]/td[1]\", \"tbody/tr[5]/td[2]\", \\\n",
    "                 \"tbody/tr[6]/td[1]\", \"tbody/tr[6]/td[2]\", \"tbody/tr[7]/td[2]\", \"tbody/tr[7]/td[3]\", \"tbody/tr[8]/td[2]\", \"tbody/tr[8]/td[3]\", \\\n",
    "                 \"tbody/tr[9]/td[1]\", \"tbody/tr[9]/td[2]\", \"tbody/tr[10]/td[1]\", \"tbody/tr[10]/td[2]\", \"tbody/tr[11]/td[2]\", \"tbody/tr[11]/td[3]\", \\\n",
    "                 \"tbody/tr[12]/td[1]\", \"tbody/tr[12]/td[2]\", \"tbody/tr[13]/td[1]\", \"tbody/tr[13]/td[2]\", \"tbody/tr[15]/td[2]\", \"tbody/tr[15]/td[3]\", \\\n",
    "                 \"tbody/tr[16]/td[2]\", \"tbody/tr[16]/td[3]\", \"tbody/tr[17]/td[2]\", \"tbody/tr[17]/td[3]\", \"tbody/tr[18]/td[2]\", \"tbody/tr[18]/td[3]\"]\n",
    "    column_names = [\"win_combination\", \"win_dividend\", \"place_combination1\", \"place_dividend1\", \"place_combination2\", \"place_dividend2\", \\\n",
    "                   \"place_combination3\", \"place_dividend3\", \"quinella_combination\", \"quinella_dividend\", \"quinella_place_combination1\", \"quinella_place_dividend1\", \\\n",
    "                   \"quinella_place_combination2\", \"quinella_place_dividend2\", \"quinella_place_combination3\", \"quinella_place_dividend3\", \\\n",
    "                   \"three_pick_one_combination1\", \"three_pick_one_dividend1\", \"three_pick_one_combination2\", \"three_pick_one_dividend2\",\\\n",
    "                   \"three_pick_one_combination3\", \"three_pick_one_dividend3\", \"tierce_combination\", \"tierce_dividend\", \\\n",
    "                   \"trio_combination\", \"trio_dividend\", \"first_four_combination\", \"first_four_dividend\", \"quartet_combination\",\\\n",
    "                   \"quartet_dividend\"]\n",
    "    results = []\n",
    "    if check_exists_by_xpath(page, '//*[@id=\"results\"]/div[7]/table/tbody/tr/td[1]/table'):\n",
    "        p = page.find_element_by_xpath('//*[@id=\"results\"]/div[7]/table/tbody/tr/td[1]/table')\n",
    "        #display(p.text[:8])\n",
    "        if \"Dividend\" == p.text[:8]:\n",
    "            results = []\n",
    "            #display()\n",
    "            for x in xpath_list:\n",
    "                #display(x)\n",
    "                if check_exists_by_xpath(p, x):\n",
    "                    results.append(p.find_element_by_xpath(x).text)\n",
    "                else:\n",
    "                    results.append(\"\")\n",
    "    #display(results)\n",
    "    return pd.DataFrame([results], columns= column_names)\n",
    "            \n",
    "\n",
    "    \n",
    "#get_dividend(driver)"
   ]
  },
  {
   "cell_type": "code",
   "execution_count": 431,
   "metadata": {
    "scrolled": true
   },
   "outputs": [],
   "source": [
    "\n",
    "def get_race_info(page, race_url, race_number):\n",
    "    if check_exists_by_xpath(page, '//*[@id=\"results\"]/div[5]/div[1]'):\n",
    "        #race_number = get_race_number(page)\n",
    "        date, track = get_race_date_track(page)\n",
    "        df1 = pd.DataFrame([[race_number, date, track, race_url]], columns=[\"race_number\", \"date\", \"track\", \"race_url\"] )\n",
    "        df2 = get_race_profile(page)\n",
    "        df3 = get_dividend(page)\n",
    "        df4 = pd.concat([df1,df2, df3], axis=1)\n",
    "        df4[\"update_datetime\"] = datetime.datetime.now()\n",
    "        #df4[\"race_id\"] = race_url\n",
    "        df5 = get_horse_placement(page)\n",
    "        df5[\"race_url\"] = race_url\n",
    "        df5[\"race_number\"] = race_number\n",
    "        df5[\"race_date\"] = date\n",
    "        df5[\"race_track\"] = track\n",
    "        df5['update_datetime'] = datetime.datetime.now()\n",
    "        #display(res4[\"race_url\"])\n",
    "        return (df4, df5)\n",
    "    else:\n",
    "        return None\n",
    "#get_race_info(driver, \"rac\", \"asdf\")\n",
    "\n",
    "#get_horse_placement(driver)\n",
    "#pd.DataFrame(res).T\n",
    "#display(res)"
   ]
  },
  {
   "cell_type": "code",
   "execution_count": 430,
   "metadata": {},
   "outputs": [],
   "source": [
    "def save_url_progress(location, url_list):\n",
    "    if os.path.isfile(location):\n",
    "        with open(location, \"r+b\") as f:\n",
    "            try:\n",
    "                #urls = pickle.load(f)\n",
    "                #display(len(urls))\n",
    "                #urls.update(url_list)\n",
    "                #display(len(urls))\n",
    "                #display(urls)\n",
    "                #urls = {**urls, **url_list}\n",
    "                #display(urls)\n",
    "                pickle.dump(url_list)\n",
    "                return urls\n",
    "            except Exception:\n",
    "                pass\n",
    "    with open(location, \"wb\") as f:\n",
    "        pickle.dump(url_list, f)\n",
    "    return url_list\n",
    "    \n",
    "    #display(concat_list)\n",
    "#save_url_progress(\"data/race_urls.pickle\", [\"asdfg\", \"asdg\" , \"asdgsdg\", \"asdg\", \"sdfdsg\", \"gasdasdg\"])\n",
    "    #.to_pickle(\"data/race_urls.pickle\")\n",
    "    \n",
    "def open_url_progress(location):\n",
    "    if os.path.isfile(location):\n",
    "        with open(location, \"rb\") as f:\n",
    "            try:\n",
    "                urls = pickle.load(f)\n",
    "                return urls\n",
    "            except Exception:\n",
    "                pass\n",
    "    else:\n",
    "        return None\n",
    "\n",
    "#open_url_progress(\"data/race_urls.pickle\")\n",
    "\n"
   ]
  },
  {
   "cell_type": "code",
   "execution_count": 423,
   "metadata": {},
   "outputs": [
    {
     "data": {
      "text/plain": [
       "datetime.datetime(2016, 2, 21, 1, 6, 21, 193808)"
      ]
     },
     "metadata": {},
     "output_type": "display_data"
    },
    {
     "data": {
      "text/plain": [
       "datetime.datetime(2016, 1, 2, 1, 10, 23, 372333)"
      ]
     },
     "metadata": {},
     "output_type": "display_data"
    },
    {
     "data": {
      "text/plain": [
       "datetime.datetime(2015, 11, 13, 1, 14, 21, 634456)"
      ]
     },
     "metadata": {},
     "output_type": "display_data"
    },
    {
     "data": {
      "text/plain": [
       "datetime.datetime(2015, 9, 24, 1, 18, 20, 707602)"
      ]
     },
     "metadata": {},
     "output_type": "display_data"
    },
    {
     "data": {
      "text/plain": [
       "datetime.datetime(2015, 8, 5, 1, 22, 16, 992098)"
      ]
     },
     "metadata": {},
     "output_type": "display_data"
    },
    {
     "data": {
      "text/plain": [
       "datetime.datetime(2015, 6, 16, 1, 26, 17, 665968)"
      ]
     },
     "metadata": {},
     "output_type": "display_data"
    },
    {
     "data": {
      "text/plain": [
       "datetime.datetime(2015, 4, 27, 1, 30, 11, 353784)"
      ]
     },
     "metadata": {},
     "output_type": "display_data"
    },
    {
     "data": {
      "text/plain": [
       "datetime.datetime(2015, 3, 8, 1, 34, 9, 801704)"
      ]
     },
     "metadata": {},
     "output_type": "display_data"
    },
    {
     "data": {
      "text/plain": [
       "datetime.datetime(2015, 1, 17, 1, 38, 8, 56792)"
      ]
     },
     "metadata": {},
     "output_type": "display_data"
    },
    {
     "data": {
      "text/plain": [
       "datetime.datetime(2014, 11, 28, 1, 42, 5, 968760)"
      ]
     },
     "metadata": {},
     "output_type": "display_data"
    },
    {
     "data": {
      "text/plain": [
       "datetime.datetime(2014, 10, 9, 1, 46, 43, 448639)"
      ]
     },
     "metadata": {},
     "output_type": "display_data"
    },
    {
     "data": {
      "text/plain": [
       "datetime.datetime(2014, 8, 20, 1, 50, 39, 952202)"
      ]
     },
     "metadata": {},
     "output_type": "display_data"
    },
    {
     "data": {
      "text/plain": [
       "datetime.datetime(2014, 7, 1, 1, 54, 37, 306358)"
      ]
     },
     "metadata": {},
     "output_type": "display_data"
    },
    {
     "data": {
      "text/plain": [
       "datetime.datetime(2014, 5, 12, 1, 58, 36, 492270)"
      ]
     },
     "metadata": {},
     "output_type": "display_data"
    },
    {
     "data": {
      "text/plain": [
       "datetime.datetime(2014, 3, 23, 2, 2, 32, 793169)"
      ]
     },
     "metadata": {},
     "output_type": "display_data"
    },
    {
     "data": {
      "text/plain": [
       "datetime.datetime(2014, 2, 1, 2, 6, 34, 78064)"
      ]
     },
     "metadata": {},
     "output_type": "display_data"
    },
    {
     "data": {
      "text/plain": [
       "datetime.datetime(2013, 12, 13, 2, 10, 32, 289458)"
      ]
     },
     "metadata": {},
     "output_type": "display_data"
    },
    {
     "data": {
      "text/plain": [
       "datetime.datetime(2013, 10, 24, 2, 14, 28, 652472)"
      ]
     },
     "metadata": {},
     "output_type": "display_data"
    },
    {
     "data": {
      "text/plain": [
       "datetime.datetime(2013, 9, 4, 2, 18, 28, 879029)"
      ]
     },
     "metadata": {},
     "output_type": "display_data"
    },
    {
     "data": {
      "text/plain": [
       "datetime.datetime(2013, 7, 16, 2, 22, 23, 759610)"
      ]
     },
     "metadata": {},
     "output_type": "display_data"
    },
    {
     "data": {
      "text/plain": [
       "datetime.datetime(2013, 5, 27, 2, 26, 20, 996689)"
      ]
     },
     "metadata": {},
     "output_type": "display_data"
    },
    {
     "data": {
      "text/plain": [
       "datetime.datetime(2013, 4, 7, 2, 30, 16, 667206)"
      ]
     },
     "metadata": {},
     "output_type": "display_data"
    },
    {
     "data": {
      "text/plain": [
       "datetime.datetime(2013, 2, 16, 2, 34, 15, 464076)"
      ]
     },
     "metadata": {},
     "output_type": "display_data"
    },
    {
     "data": {
      "text/plain": [
       "datetime.datetime(2012, 12, 28, 2, 38, 29, 543045)"
      ]
     },
     "metadata": {},
     "output_type": "display_data"
    },
    {
     "data": {
      "text/plain": [
       "datetime.datetime(2012, 11, 8, 2, 42, 23, 255540)"
      ]
     },
     "metadata": {},
     "output_type": "display_data"
    },
    {
     "data": {
      "text/plain": [
       "datetime.datetime(2012, 9, 19, 2, 46, 21, 781098)"
      ]
     },
     "metadata": {},
     "output_type": "display_data"
    },
    {
     "data": {
      "text/plain": [
       "datetime.datetime(2012, 7, 31, 2, 50, 16, 943446)"
      ]
     },
     "metadata": {},
     "output_type": "display_data"
    },
    {
     "data": {
      "text/plain": [
       "datetime.datetime(2012, 6, 11, 2, 54, 10, 694561)"
      ]
     },
     "metadata": {},
     "output_type": "display_data"
    },
    {
     "data": {
      "text/plain": [
       "datetime.datetime(2012, 4, 22, 2, 58, 17, 921123)"
      ]
     },
     "metadata": {},
     "output_type": "display_data"
    },
    {
     "data": {
      "text/plain": [
       "datetime.datetime(2012, 3, 3, 3, 2, 10, 738913)"
      ]
     },
     "metadata": {},
     "output_type": "display_data"
    },
    {
     "data": {
      "text/plain": [
       "datetime.datetime(2012, 1, 13, 3, 6, 3, 210774)"
      ]
     },
     "metadata": {},
     "output_type": "display_data"
    },
    {
     "data": {
      "text/plain": [
       "datetime.datetime(2011, 11, 24, 3, 9, 59, 354410)"
      ]
     },
     "metadata": {},
     "output_type": "display_data"
    },
    {
     "data": {
      "text/plain": [
       "datetime.datetime(2011, 10, 5, 3, 13, 50, 399926)"
      ]
     },
     "metadata": {},
     "output_type": "display_data"
    },
    {
     "data": {
      "text/plain": [
       "datetime.datetime(2011, 8, 16, 3, 17, 43, 737944)"
      ]
     },
     "metadata": {},
     "output_type": "display_data"
    },
    {
     "data": {
      "text/plain": [
       "datetime.datetime(2011, 6, 27, 3, 21, 40, 341845)"
      ]
     },
     "metadata": {},
     "output_type": "display_data"
    },
    {
     "data": {
      "text/plain": [
       "datetime.datetime(2011, 5, 8, 3, 25, 53, 121134)"
      ]
     },
     "metadata": {},
     "output_type": "display_data"
    },
    {
     "data": {
      "text/plain": [
       "datetime.datetime(2011, 3, 19, 3, 29, 53, 513930)"
      ]
     },
     "metadata": {},
     "output_type": "display_data"
    },
    {
     "data": {
      "text/plain": [
       "datetime.datetime(2011, 1, 28, 3, 34, 1, 32955)"
      ]
     },
     "metadata": {},
     "output_type": "display_data"
    },
    {
     "data": {
      "text/plain": [
       "datetime.datetime(2010, 12, 9, 3, 38, 0, 181730)"
      ]
     },
     "metadata": {},
     "output_type": "display_data"
    },
    {
     "data": {
      "text/plain": [
       "datetime.datetime(2010, 10, 20, 3, 41, 58, 306265)"
      ]
     },
     "metadata": {},
     "output_type": "display_data"
    },
    {
     "data": {
      "text/plain": [
       "datetime.datetime(2010, 8, 31, 3, 45, 57, 123808)"
      ]
     },
     "metadata": {},
     "output_type": "display_data"
    },
    {
     "data": {
      "text/plain": [
       "datetime.datetime(2010, 7, 12, 3, 49, 52, 626484)"
      ]
     },
     "metadata": {},
     "output_type": "display_data"
    },
    {
     "data": {
      "text/plain": [
       "datetime.datetime(2010, 5, 23, 3, 53, 51, 476364)"
      ]
     },
     "metadata": {},
     "output_type": "display_data"
    },
    {
     "data": {
      "text/plain": [
       "datetime.datetime(2010, 4, 3, 3, 57, 49, 141694)"
      ]
     },
     "metadata": {},
     "output_type": "display_data"
    },
    {
     "data": {
      "text/plain": [
       "datetime.datetime(2010, 2, 12, 4, 1, 44, 468033)"
      ]
     },
     "metadata": {},
     "output_type": "display_data"
    },
    {
     "data": {
      "text/plain": [
       "datetime.datetime(2009, 12, 24, 4, 5, 39, 477741)"
      ]
     },
     "metadata": {},
     "output_type": "display_data"
    },
    {
     "data": {
      "text/plain": [
       "datetime.datetime(2009, 11, 4, 4, 9, 39, 130683)"
      ]
     },
     "metadata": {},
     "output_type": "display_data"
    },
    {
     "data": {
      "text/plain": [
       "datetime.datetime(2009, 9, 15, 4, 13, 35, 990937)"
      ]
     },
     "metadata": {},
     "output_type": "display_data"
    },
    {
     "data": {
      "text/plain": [
       "datetime.datetime(2009, 7, 27, 4, 17, 32, 435190)"
      ]
     },
     "metadata": {},
     "output_type": "display_data"
    },
    {
     "data": {
      "text/plain": [
       "datetime.datetime(2009, 6, 7, 4, 21, 27, 762631)"
      ]
     },
     "metadata": {},
     "output_type": "display_data"
    },
    {
     "data": {
      "text/plain": [
       "datetime.datetime(2009, 4, 18, 4, 25, 21, 811001)"
      ]
     },
     "metadata": {},
     "output_type": "display_data"
    },
    {
     "data": {
      "text/plain": [
       "datetime.datetime(2009, 2, 27, 4, 29, 18, 690041)"
      ]
     },
     "metadata": {},
     "output_type": "display_data"
    },
    {
     "data": {
      "text/plain": [
       "datetime.datetime(2009, 1, 8, 4, 33, 15, 513034)"
      ]
     },
     "metadata": {},
     "output_type": "display_data"
    },
    {
     "data": {
      "text/plain": [
       "datetime.datetime(2008, 11, 19, 4, 37, 12, 597445)"
      ]
     },
     "metadata": {},
     "output_type": "display_data"
    },
    {
     "data": {
      "text/plain": [
       "datetime.datetime(2008, 9, 30, 4, 41, 9, 432423)"
      ]
     },
     "metadata": {},
     "output_type": "display_data"
    },
    {
     "data": {
      "text/plain": [
       "datetime.datetime(2008, 8, 11, 4, 45, 9, 802716)"
      ]
     },
     "metadata": {},
     "output_type": "display_data"
    },
    {
     "data": {
      "text/plain": [
       "datetime.datetime(2008, 6, 22, 4, 49, 5, 180651)"
      ]
     },
     "metadata": {},
     "output_type": "display_data"
    },
    {
     "data": {
      "text/plain": [
       "datetime.datetime(2008, 5, 3, 4, 53, 4, 799870)"
      ]
     },
     "metadata": {},
     "output_type": "display_data"
    },
    {
     "data": {
      "text/plain": [
       "datetime.datetime(2008, 3, 14, 4, 57, 3, 310868)"
      ]
     },
     "metadata": {},
     "output_type": "display_data"
    },
    {
     "data": {
      "text/plain": [
       "datetime.datetime(2008, 1, 24, 5, 0, 59, 276948)"
      ]
     },
     "metadata": {},
     "output_type": "display_data"
    },
    {
     "data": {
      "text/plain": [
       "datetime.datetime(2007, 12, 5, 5, 4, 56, 44094)"
      ]
     },
     "metadata": {},
     "output_type": "display_data"
    },
    {
     "data": {
      "text/plain": [
       "datetime.datetime(2007, 10, 16, 5, 9, 21, 541844)"
      ]
     },
     "metadata": {},
     "output_type": "display_data"
    },
    {
     "data": {
      "text/plain": [
       "datetime.datetime(2007, 8, 27, 5, 13, 15, 576100)"
      ]
     },
     "metadata": {},
     "output_type": "display_data"
    },
    {
     "data": {
      "text/plain": [
       "datetime.datetime(2007, 7, 8, 5, 17, 12, 886523)"
      ]
     },
     "metadata": {},
     "output_type": "display_data"
    },
    {
     "data": {
      "text/plain": [
       "datetime.datetime(2007, 5, 19, 5, 21, 7, 968939)"
      ]
     },
     "metadata": {},
     "output_type": "display_data"
    },
    {
     "data": {
      "text/plain": [
       "datetime.datetime(2007, 3, 30, 5, 25, 3, 319487)"
      ]
     },
     "metadata": {},
     "output_type": "display_data"
    },
    {
     "data": {
      "text/plain": [
       "datetime.datetime(2007, 2, 8, 5, 28, 58, 334800)"
      ]
     },
     "metadata": {},
     "output_type": "display_data"
    },
    {
     "data": {
      "text/plain": [
       "datetime.datetime(2006, 12, 20, 5, 32, 53, 731444)"
      ]
     },
     "metadata": {},
     "output_type": "display_data"
    },
    {
     "data": {
      "text/plain": [
       "datetime.datetime(2006, 10, 31, 5, 36, 50, 374313)"
      ]
     },
     "metadata": {},
     "output_type": "display_data"
    },
    {
     "data": {
      "text/plain": [
       "datetime.datetime(2006, 9, 11, 5, 40, 52, 657187)"
      ]
     },
     "metadata": {},
     "output_type": "display_data"
    },
    {
     "data": {
      "text/plain": [
       "datetime.datetime(2006, 7, 23, 5, 44, 47, 622675)"
      ]
     },
     "metadata": {},
     "output_type": "display_data"
    },
    {
     "data": {
      "text/plain": [
       "datetime.datetime(2006, 6, 3, 5, 48, 44, 243890)"
      ]
     },
     "metadata": {},
     "output_type": "display_data"
    },
    {
     "data": {
      "text/plain": [
       "datetime.datetime(2006, 4, 14, 5, 52, 40, 412077)"
      ]
     },
     "metadata": {},
     "output_type": "display_data"
    },
    {
     "data": {
      "text/plain": [
       "datetime.datetime(2006, 2, 23, 5, 56, 36, 704072)"
      ]
     },
     "metadata": {},
     "output_type": "display_data"
    },
    {
     "data": {
      "text/plain": [
       "datetime.datetime(2006, 1, 4, 6, 0, 30, 992555)"
      ]
     },
     "metadata": {},
     "output_type": "display_data"
    },
    {
     "data": {
      "text/plain": [
       "datetime.datetime(2005, 11, 15, 6, 4, 27, 246841)"
      ]
     },
     "metadata": {},
     "output_type": "display_data"
    },
    {
     "data": {
      "text/plain": [
       "datetime.datetime(2005, 9, 26, 6, 8, 25, 785268)"
      ]
     },
     "metadata": {},
     "output_type": "display_data"
    },
    {
     "data": {
      "text/plain": [
       "datetime.datetime(2005, 8, 7, 6, 12, 26, 398006)"
      ]
     },
     "metadata": {},
     "output_type": "display_data"
    },
    {
     "ename": "KeyboardInterrupt",
     "evalue": "",
     "output_type": "error",
     "traceback": [
      "\u001b[0;31m---------------------------------------------------------------------------\u001b[0m",
      "\u001b[0;31mTypeError\u001b[0m                                 Traceback (most recent call last)",
      "\u001b[0;32m~/miniconda3/envs/hkjc/lib/python3.7/site-packages/urllib3/connectionpool.py\u001b[0m in \u001b[0;36m_make_request\u001b[0;34m(self, conn, method, url, timeout, chunked, **httplib_request_kw)\u001b[0m\n\u001b[1;32m    376\u001b[0m             \u001b[0;32mtry\u001b[0m\u001b[0;34m:\u001b[0m  \u001b[0;31m# Python 2.7, use buffering of HTTP responses\u001b[0m\u001b[0;34m\u001b[0m\u001b[0;34m\u001b[0m\u001b[0m\n\u001b[0;32m--> 377\u001b[0;31m                 \u001b[0mhttplib_response\u001b[0m \u001b[0;34m=\u001b[0m \u001b[0mconn\u001b[0m\u001b[0;34m.\u001b[0m\u001b[0mgetresponse\u001b[0m\u001b[0;34m(\u001b[0m\u001b[0mbuffering\u001b[0m\u001b[0;34m=\u001b[0m\u001b[0;32mTrue\u001b[0m\u001b[0;34m)\u001b[0m\u001b[0;34m\u001b[0m\u001b[0;34m\u001b[0m\u001b[0m\n\u001b[0m\u001b[1;32m    378\u001b[0m             \u001b[0;32mexcept\u001b[0m \u001b[0mTypeError\u001b[0m\u001b[0;34m:\u001b[0m  \u001b[0;31m# Python 3\u001b[0m\u001b[0;34m\u001b[0m\u001b[0;34m\u001b[0m\u001b[0m\n",
      "\u001b[0;31mTypeError\u001b[0m: getresponse() got an unexpected keyword argument 'buffering'",
      "\nDuring handling of the above exception, another exception occurred:\n",
      "\u001b[0;31mKeyboardInterrupt\u001b[0m                         Traceback (most recent call last)",
      "\u001b[0;32m<ipython-input-423-16d7ca644b9f>\u001b[0m in \u001b[0;36m<module>\u001b[0;34m\u001b[0m\n\u001b[1;32m     35\u001b[0m         \u001b[0;32mpass\u001b[0m\u001b[0;34m\u001b[0m\u001b[0;34m\u001b[0m\u001b[0m\n\u001b[1;32m     36\u001b[0m \u001b[0;34m\u001b[0m\u001b[0m\n\u001b[0;32m---> 37\u001b[0;31m     \u001b[0;32mif\u001b[0m \u001b[0mcheck_exists_by_xpath\u001b[0m\u001b[0;34m(\u001b[0m\u001b[0mdriver\u001b[0m\u001b[0;34m,\u001b[0m \u001b[0;34m'//*[@id=\"results\"]/div[5]/div[1]'\u001b[0m\u001b[0;34m)\u001b[0m\u001b[0;34m:\u001b[0m\u001b[0;34m\u001b[0m\u001b[0;34m\u001b[0m\u001b[0m\n\u001b[0m\u001b[1;32m     38\u001b[0m         \u001b[0;31m#print(\"Page found \")\u001b[0m\u001b[0;34m\u001b[0m\u001b[0;34m\u001b[0m\u001b[0;34m\u001b[0m\u001b[0m\n\u001b[1;32m     39\u001b[0m         \u001b[0mrace_number\u001b[0m \u001b[0;34m=\u001b[0m \u001b[0mget_race_number\u001b[0m\u001b[0;34m(\u001b[0m\u001b[0mdriver\u001b[0m\u001b[0;34m)\u001b[0m\u001b[0;34m\u001b[0m\u001b[0;34m\u001b[0m\u001b[0m\n",
      "\u001b[0;32m<ipython-input-416-93bdbc4d04b9>\u001b[0m in \u001b[0;36mcheck_exists_by_xpath\u001b[0;34m(page, xpath)\u001b[0m\n\u001b[1;32m      6\u001b[0m \u001b[0;32mdef\u001b[0m \u001b[0mcheck_exists_by_xpath\u001b[0m\u001b[0;34m(\u001b[0m\u001b[0mpage\u001b[0m\u001b[0;34m,\u001b[0m \u001b[0mxpath\u001b[0m\u001b[0;34m)\u001b[0m\u001b[0;34m:\u001b[0m\u001b[0;34m\u001b[0m\u001b[0;34m\u001b[0m\u001b[0m\n\u001b[1;32m      7\u001b[0m     \u001b[0;32mtry\u001b[0m\u001b[0;34m:\u001b[0m\u001b[0;34m\u001b[0m\u001b[0;34m\u001b[0m\u001b[0m\n\u001b[0;32m----> 8\u001b[0;31m         \u001b[0mpage\u001b[0m\u001b[0;34m.\u001b[0m\u001b[0mfind_element_by_xpath\u001b[0m\u001b[0;34m(\u001b[0m\u001b[0mxpath\u001b[0m\u001b[0;34m)\u001b[0m\u001b[0;34m\u001b[0m\u001b[0;34m\u001b[0m\u001b[0m\n\u001b[0m\u001b[1;32m      9\u001b[0m     \u001b[0;32mexcept\u001b[0m \u001b[0mNoSuchElementException\u001b[0m\u001b[0;34m:\u001b[0m\u001b[0;34m\u001b[0m\u001b[0;34m\u001b[0m\u001b[0m\n\u001b[1;32m     10\u001b[0m         \u001b[0;32mif\u001b[0m \u001b[0mdebug\u001b[0m\u001b[0;34m:\u001b[0m\u001b[0;34m\u001b[0m\u001b[0;34m\u001b[0m\u001b[0m\n",
      "\u001b[0;32m~/miniconda3/envs/hkjc/lib/python3.7/site-packages/selenium/webdriver/remote/webdriver.py\u001b[0m in \u001b[0;36mfind_element_by_xpath\u001b[0;34m(self, xpath)\u001b[0m\n\u001b[1;32m    392\u001b[0m             \u001b[0melement\u001b[0m \u001b[0;34m=\u001b[0m \u001b[0mdriver\u001b[0m\u001b[0;34m.\u001b[0m\u001b[0mfind_element_by_xpath\u001b[0m\u001b[0;34m(\u001b[0m\u001b[0;34m'//div/td[1]'\u001b[0m\u001b[0;34m)\u001b[0m\u001b[0;34m\u001b[0m\u001b[0;34m\u001b[0m\u001b[0m\n\u001b[1;32m    393\u001b[0m         \"\"\"\n\u001b[0;32m--> 394\u001b[0;31m         \u001b[0;32mreturn\u001b[0m \u001b[0mself\u001b[0m\u001b[0;34m.\u001b[0m\u001b[0mfind_element\u001b[0m\u001b[0;34m(\u001b[0m\u001b[0mby\u001b[0m\u001b[0;34m=\u001b[0m\u001b[0mBy\u001b[0m\u001b[0;34m.\u001b[0m\u001b[0mXPATH\u001b[0m\u001b[0;34m,\u001b[0m \u001b[0mvalue\u001b[0m\u001b[0;34m=\u001b[0m\u001b[0mxpath\u001b[0m\u001b[0;34m)\u001b[0m\u001b[0;34m\u001b[0m\u001b[0;34m\u001b[0m\u001b[0m\n\u001b[0m\u001b[1;32m    395\u001b[0m \u001b[0;34m\u001b[0m\u001b[0m\n\u001b[1;32m    396\u001b[0m     \u001b[0;32mdef\u001b[0m \u001b[0mfind_elements_by_xpath\u001b[0m\u001b[0;34m(\u001b[0m\u001b[0mself\u001b[0m\u001b[0;34m,\u001b[0m \u001b[0mxpath\u001b[0m\u001b[0;34m)\u001b[0m\u001b[0;34m:\u001b[0m\u001b[0;34m\u001b[0m\u001b[0;34m\u001b[0m\u001b[0m\n",
      "\u001b[0;32m~/miniconda3/envs/hkjc/lib/python3.7/site-packages/selenium/webdriver/remote/webdriver.py\u001b[0m in \u001b[0;36mfind_element\u001b[0;34m(self, by, value)\u001b[0m\n\u001b[1;32m    976\u001b[0m         return self.execute(Command.FIND_ELEMENT, {\n\u001b[1;32m    977\u001b[0m             \u001b[0;34m'using'\u001b[0m\u001b[0;34m:\u001b[0m \u001b[0mby\u001b[0m\u001b[0;34m,\u001b[0m\u001b[0;34m\u001b[0m\u001b[0;34m\u001b[0m\u001b[0m\n\u001b[0;32m--> 978\u001b[0;31m             'value': value})['value']\n\u001b[0m\u001b[1;32m    979\u001b[0m \u001b[0;34m\u001b[0m\u001b[0m\n\u001b[1;32m    980\u001b[0m     \u001b[0;32mdef\u001b[0m \u001b[0mfind_elements\u001b[0m\u001b[0;34m(\u001b[0m\u001b[0mself\u001b[0m\u001b[0;34m,\u001b[0m \u001b[0mby\u001b[0m\u001b[0;34m=\u001b[0m\u001b[0mBy\u001b[0m\u001b[0;34m.\u001b[0m\u001b[0mID\u001b[0m\u001b[0;34m,\u001b[0m \u001b[0mvalue\u001b[0m\u001b[0;34m=\u001b[0m\u001b[0;32mNone\u001b[0m\u001b[0;34m)\u001b[0m\u001b[0;34m:\u001b[0m\u001b[0;34m\u001b[0m\u001b[0;34m\u001b[0m\u001b[0m\n",
      "\u001b[0;32m~/miniconda3/envs/hkjc/lib/python3.7/site-packages/selenium/webdriver/remote/webdriver.py\u001b[0m in \u001b[0;36mexecute\u001b[0;34m(self, driver_command, params)\u001b[0m\n\u001b[1;32m    317\u001b[0m \u001b[0;34m\u001b[0m\u001b[0m\n\u001b[1;32m    318\u001b[0m         \u001b[0mparams\u001b[0m \u001b[0;34m=\u001b[0m \u001b[0mself\u001b[0m\u001b[0;34m.\u001b[0m\u001b[0m_wrap_value\u001b[0m\u001b[0;34m(\u001b[0m\u001b[0mparams\u001b[0m\u001b[0;34m)\u001b[0m\u001b[0;34m\u001b[0m\u001b[0;34m\u001b[0m\u001b[0m\n\u001b[0;32m--> 319\u001b[0;31m         \u001b[0mresponse\u001b[0m \u001b[0;34m=\u001b[0m \u001b[0mself\u001b[0m\u001b[0;34m.\u001b[0m\u001b[0mcommand_executor\u001b[0m\u001b[0;34m.\u001b[0m\u001b[0mexecute\u001b[0m\u001b[0;34m(\u001b[0m\u001b[0mdriver_command\u001b[0m\u001b[0;34m,\u001b[0m \u001b[0mparams\u001b[0m\u001b[0;34m)\u001b[0m\u001b[0;34m\u001b[0m\u001b[0;34m\u001b[0m\u001b[0m\n\u001b[0m\u001b[1;32m    320\u001b[0m         \u001b[0;32mif\u001b[0m \u001b[0mresponse\u001b[0m\u001b[0;34m:\u001b[0m\u001b[0;34m\u001b[0m\u001b[0;34m\u001b[0m\u001b[0m\n\u001b[1;32m    321\u001b[0m             \u001b[0mself\u001b[0m\u001b[0;34m.\u001b[0m\u001b[0merror_handler\u001b[0m\u001b[0;34m.\u001b[0m\u001b[0mcheck_response\u001b[0m\u001b[0;34m(\u001b[0m\u001b[0mresponse\u001b[0m\u001b[0;34m)\u001b[0m\u001b[0;34m\u001b[0m\u001b[0;34m\u001b[0m\u001b[0m\n",
      "\u001b[0;32m~/miniconda3/envs/hkjc/lib/python3.7/site-packages/selenium/webdriver/remote/remote_connection.py\u001b[0m in \u001b[0;36mexecute\u001b[0;34m(self, command, params)\u001b[0m\n\u001b[1;32m    374\u001b[0m         \u001b[0mdata\u001b[0m \u001b[0;34m=\u001b[0m \u001b[0mutils\u001b[0m\u001b[0;34m.\u001b[0m\u001b[0mdump_json\u001b[0m\u001b[0;34m(\u001b[0m\u001b[0mparams\u001b[0m\u001b[0;34m)\u001b[0m\u001b[0;34m\u001b[0m\u001b[0;34m\u001b[0m\u001b[0m\n\u001b[1;32m    375\u001b[0m         \u001b[0murl\u001b[0m \u001b[0;34m=\u001b[0m \u001b[0;34m'%s%s'\u001b[0m \u001b[0;34m%\u001b[0m \u001b[0;34m(\u001b[0m\u001b[0mself\u001b[0m\u001b[0;34m.\u001b[0m\u001b[0m_url\u001b[0m\u001b[0;34m,\u001b[0m \u001b[0mpath\u001b[0m\u001b[0;34m)\u001b[0m\u001b[0;34m\u001b[0m\u001b[0;34m\u001b[0m\u001b[0m\n\u001b[0;32m--> 376\u001b[0;31m         \u001b[0;32mreturn\u001b[0m \u001b[0mself\u001b[0m\u001b[0;34m.\u001b[0m\u001b[0m_request\u001b[0m\u001b[0;34m(\u001b[0m\u001b[0mcommand_info\u001b[0m\u001b[0;34m[\u001b[0m\u001b[0;36m0\u001b[0m\u001b[0;34m]\u001b[0m\u001b[0;34m,\u001b[0m \u001b[0murl\u001b[0m\u001b[0;34m,\u001b[0m \u001b[0mbody\u001b[0m\u001b[0;34m=\u001b[0m\u001b[0mdata\u001b[0m\u001b[0;34m)\u001b[0m\u001b[0;34m\u001b[0m\u001b[0;34m\u001b[0m\u001b[0m\n\u001b[0m\u001b[1;32m    377\u001b[0m \u001b[0;34m\u001b[0m\u001b[0m\n\u001b[1;32m    378\u001b[0m     \u001b[0;32mdef\u001b[0m \u001b[0m_request\u001b[0m\u001b[0;34m(\u001b[0m\u001b[0mself\u001b[0m\u001b[0;34m,\u001b[0m \u001b[0mmethod\u001b[0m\u001b[0;34m,\u001b[0m \u001b[0murl\u001b[0m\u001b[0;34m,\u001b[0m \u001b[0mbody\u001b[0m\u001b[0;34m=\u001b[0m\u001b[0;32mNone\u001b[0m\u001b[0;34m)\u001b[0m\u001b[0;34m:\u001b[0m\u001b[0;34m\u001b[0m\u001b[0;34m\u001b[0m\u001b[0m\n",
      "\u001b[0;32m~/miniconda3/envs/hkjc/lib/python3.7/site-packages/selenium/webdriver/remote/remote_connection.py\u001b[0m in \u001b[0;36m_request\u001b[0;34m(self, method, url, body)\u001b[0m\n\u001b[1;32m    397\u001b[0m \u001b[0;34m\u001b[0m\u001b[0m\n\u001b[1;32m    398\u001b[0m         \u001b[0;32mif\u001b[0m \u001b[0mself\u001b[0m\u001b[0;34m.\u001b[0m\u001b[0mkeep_alive\u001b[0m\u001b[0;34m:\u001b[0m\u001b[0;34m\u001b[0m\u001b[0;34m\u001b[0m\u001b[0m\n\u001b[0;32m--> 399\u001b[0;31m             \u001b[0mresp\u001b[0m \u001b[0;34m=\u001b[0m \u001b[0mself\u001b[0m\u001b[0;34m.\u001b[0m\u001b[0m_conn\u001b[0m\u001b[0;34m.\u001b[0m\u001b[0mrequest\u001b[0m\u001b[0;34m(\u001b[0m\u001b[0mmethod\u001b[0m\u001b[0;34m,\u001b[0m \u001b[0murl\u001b[0m\u001b[0;34m,\u001b[0m \u001b[0mbody\u001b[0m\u001b[0;34m=\u001b[0m\u001b[0mbody\u001b[0m\u001b[0;34m,\u001b[0m \u001b[0mheaders\u001b[0m\u001b[0;34m=\u001b[0m\u001b[0mheaders\u001b[0m\u001b[0;34m)\u001b[0m\u001b[0;34m\u001b[0m\u001b[0;34m\u001b[0m\u001b[0m\n\u001b[0m\u001b[1;32m    400\u001b[0m \u001b[0;34m\u001b[0m\u001b[0m\n\u001b[1;32m    401\u001b[0m             \u001b[0mstatuscode\u001b[0m \u001b[0;34m=\u001b[0m \u001b[0mresp\u001b[0m\u001b[0;34m.\u001b[0m\u001b[0mstatus\u001b[0m\u001b[0;34m\u001b[0m\u001b[0;34m\u001b[0m\u001b[0m\n",
      "\u001b[0;32m~/miniconda3/envs/hkjc/lib/python3.7/site-packages/urllib3/request.py\u001b[0m in \u001b[0;36mrequest\u001b[0;34m(self, method, url, fields, headers, **urlopen_kw)\u001b[0m\n\u001b[1;32m     70\u001b[0m             return self.request_encode_body(method, url, fields=fields,\n\u001b[1;32m     71\u001b[0m                                             \u001b[0mheaders\u001b[0m\u001b[0;34m=\u001b[0m\u001b[0mheaders\u001b[0m\u001b[0;34m,\u001b[0m\u001b[0;34m\u001b[0m\u001b[0;34m\u001b[0m\u001b[0m\n\u001b[0;32m---> 72\u001b[0;31m                                             **urlopen_kw)\n\u001b[0m\u001b[1;32m     73\u001b[0m \u001b[0;34m\u001b[0m\u001b[0m\n\u001b[1;32m     74\u001b[0m     def request_encode_url(self, method, url, fields=None, headers=None,\n",
      "\u001b[0;32m~/miniconda3/envs/hkjc/lib/python3.7/site-packages/urllib3/request.py\u001b[0m in \u001b[0;36mrequest_encode_body\u001b[0;34m(self, method, url, fields, headers, encode_multipart, multipart_boundary, **urlopen_kw)\u001b[0m\n\u001b[1;32m    148\u001b[0m         \u001b[0mextra_kw\u001b[0m\u001b[0;34m.\u001b[0m\u001b[0mupdate\u001b[0m\u001b[0;34m(\u001b[0m\u001b[0murlopen_kw\u001b[0m\u001b[0;34m)\u001b[0m\u001b[0;34m\u001b[0m\u001b[0;34m\u001b[0m\u001b[0m\n\u001b[1;32m    149\u001b[0m \u001b[0;34m\u001b[0m\u001b[0m\n\u001b[0;32m--> 150\u001b[0;31m         \u001b[0;32mreturn\u001b[0m \u001b[0mself\u001b[0m\u001b[0;34m.\u001b[0m\u001b[0murlopen\u001b[0m\u001b[0;34m(\u001b[0m\u001b[0mmethod\u001b[0m\u001b[0;34m,\u001b[0m \u001b[0murl\u001b[0m\u001b[0;34m,\u001b[0m \u001b[0;34m**\u001b[0m\u001b[0mextra_kw\u001b[0m\u001b[0;34m)\u001b[0m\u001b[0;34m\u001b[0m\u001b[0;34m\u001b[0m\u001b[0m\n\u001b[0m",
      "\u001b[0;32m~/miniconda3/envs/hkjc/lib/python3.7/site-packages/urllib3/poolmanager.py\u001b[0m in \u001b[0;36murlopen\u001b[0;34m(self, method, url, redirect, **kw)\u001b[0m\n\u001b[1;32m    321\u001b[0m             \u001b[0mresponse\u001b[0m \u001b[0;34m=\u001b[0m \u001b[0mconn\u001b[0m\u001b[0;34m.\u001b[0m\u001b[0murlopen\u001b[0m\u001b[0;34m(\u001b[0m\u001b[0mmethod\u001b[0m\u001b[0;34m,\u001b[0m \u001b[0murl\u001b[0m\u001b[0;34m,\u001b[0m \u001b[0;34m**\u001b[0m\u001b[0mkw\u001b[0m\u001b[0;34m)\u001b[0m\u001b[0;34m\u001b[0m\u001b[0;34m\u001b[0m\u001b[0m\n\u001b[1;32m    322\u001b[0m         \u001b[0;32melse\u001b[0m\u001b[0;34m:\u001b[0m\u001b[0;34m\u001b[0m\u001b[0;34m\u001b[0m\u001b[0m\n\u001b[0;32m--> 323\u001b[0;31m             \u001b[0mresponse\u001b[0m \u001b[0;34m=\u001b[0m \u001b[0mconn\u001b[0m\u001b[0;34m.\u001b[0m\u001b[0murlopen\u001b[0m\u001b[0;34m(\u001b[0m\u001b[0mmethod\u001b[0m\u001b[0;34m,\u001b[0m \u001b[0mu\u001b[0m\u001b[0;34m.\u001b[0m\u001b[0mrequest_uri\u001b[0m\u001b[0;34m,\u001b[0m \u001b[0;34m**\u001b[0m\u001b[0mkw\u001b[0m\u001b[0;34m)\u001b[0m\u001b[0;34m\u001b[0m\u001b[0;34m\u001b[0m\u001b[0m\n\u001b[0m\u001b[1;32m    324\u001b[0m \u001b[0;34m\u001b[0m\u001b[0m\n\u001b[1;32m    325\u001b[0m         \u001b[0mredirect_location\u001b[0m \u001b[0;34m=\u001b[0m \u001b[0mredirect\u001b[0m \u001b[0;32mand\u001b[0m \u001b[0mresponse\u001b[0m\u001b[0;34m.\u001b[0m\u001b[0mget_redirect_location\u001b[0m\u001b[0;34m(\u001b[0m\u001b[0;34m)\u001b[0m\u001b[0;34m\u001b[0m\u001b[0;34m\u001b[0m\u001b[0m\n",
      "\u001b[0;32m~/miniconda3/envs/hkjc/lib/python3.7/site-packages/urllib3/connectionpool.py\u001b[0m in \u001b[0;36murlopen\u001b[0;34m(self, method, url, body, headers, retries, redirect, assert_same_host, timeout, pool_timeout, release_conn, chunked, body_pos, **response_kw)\u001b[0m\n\u001b[1;32m    598\u001b[0m                                                   \u001b[0mtimeout\u001b[0m\u001b[0;34m=\u001b[0m\u001b[0mtimeout_obj\u001b[0m\u001b[0;34m,\u001b[0m\u001b[0;34m\u001b[0m\u001b[0;34m\u001b[0m\u001b[0m\n\u001b[1;32m    599\u001b[0m                                                   \u001b[0mbody\u001b[0m\u001b[0;34m=\u001b[0m\u001b[0mbody\u001b[0m\u001b[0;34m,\u001b[0m \u001b[0mheaders\u001b[0m\u001b[0;34m=\u001b[0m\u001b[0mheaders\u001b[0m\u001b[0;34m,\u001b[0m\u001b[0;34m\u001b[0m\u001b[0;34m\u001b[0m\u001b[0m\n\u001b[0;32m--> 600\u001b[0;31m                                                   chunked=chunked)\n\u001b[0m\u001b[1;32m    601\u001b[0m \u001b[0;34m\u001b[0m\u001b[0m\n\u001b[1;32m    602\u001b[0m             \u001b[0;31m# If we're going to release the connection in ``finally:``, then\u001b[0m\u001b[0;34m\u001b[0m\u001b[0;34m\u001b[0m\u001b[0;34m\u001b[0m\u001b[0m\n",
      "\u001b[0;32m~/miniconda3/envs/hkjc/lib/python3.7/site-packages/urllib3/connectionpool.py\u001b[0m in \u001b[0;36m_make_request\u001b[0;34m(self, conn, method, url, timeout, chunked, **httplib_request_kw)\u001b[0m\n\u001b[1;32m    378\u001b[0m             \u001b[0;32mexcept\u001b[0m \u001b[0mTypeError\u001b[0m\u001b[0;34m:\u001b[0m  \u001b[0;31m# Python 3\u001b[0m\u001b[0;34m\u001b[0m\u001b[0;34m\u001b[0m\u001b[0m\n\u001b[1;32m    379\u001b[0m                 \u001b[0;32mtry\u001b[0m\u001b[0;34m:\u001b[0m\u001b[0;34m\u001b[0m\u001b[0;34m\u001b[0m\u001b[0m\n\u001b[0;32m--> 380\u001b[0;31m                     \u001b[0mhttplib_response\u001b[0m \u001b[0;34m=\u001b[0m \u001b[0mconn\u001b[0m\u001b[0;34m.\u001b[0m\u001b[0mgetresponse\u001b[0m\u001b[0;34m(\u001b[0m\u001b[0;34m)\u001b[0m\u001b[0;34m\u001b[0m\u001b[0;34m\u001b[0m\u001b[0m\n\u001b[0m\u001b[1;32m    381\u001b[0m                 \u001b[0;32mexcept\u001b[0m \u001b[0mException\u001b[0m \u001b[0;32mas\u001b[0m \u001b[0me\u001b[0m\u001b[0;34m:\u001b[0m\u001b[0;34m\u001b[0m\u001b[0;34m\u001b[0m\u001b[0m\n\u001b[1;32m    382\u001b[0m                     \u001b[0;31m# Remove the TypeError from the exception chain in Python 3;\u001b[0m\u001b[0;34m\u001b[0m\u001b[0;34m\u001b[0m\u001b[0;34m\u001b[0m\u001b[0m\n",
      "\u001b[0;32m~/miniconda3/envs/hkjc/lib/python3.7/http/client.py\u001b[0m in \u001b[0;36mgetresponse\u001b[0;34m(self)\u001b[0m\n\u001b[1;32m   1319\u001b[0m         \u001b[0;32mtry\u001b[0m\u001b[0;34m:\u001b[0m\u001b[0;34m\u001b[0m\u001b[0;34m\u001b[0m\u001b[0m\n\u001b[1;32m   1320\u001b[0m             \u001b[0;32mtry\u001b[0m\u001b[0;34m:\u001b[0m\u001b[0;34m\u001b[0m\u001b[0;34m\u001b[0m\u001b[0m\n\u001b[0;32m-> 1321\u001b[0;31m                 \u001b[0mresponse\u001b[0m\u001b[0;34m.\u001b[0m\u001b[0mbegin\u001b[0m\u001b[0;34m(\u001b[0m\u001b[0;34m)\u001b[0m\u001b[0;34m\u001b[0m\u001b[0;34m\u001b[0m\u001b[0m\n\u001b[0m\u001b[1;32m   1322\u001b[0m             \u001b[0;32mexcept\u001b[0m \u001b[0mConnectionError\u001b[0m\u001b[0;34m:\u001b[0m\u001b[0;34m\u001b[0m\u001b[0;34m\u001b[0m\u001b[0m\n\u001b[1;32m   1323\u001b[0m                 \u001b[0mself\u001b[0m\u001b[0;34m.\u001b[0m\u001b[0mclose\u001b[0m\u001b[0;34m(\u001b[0m\u001b[0;34m)\u001b[0m\u001b[0;34m\u001b[0m\u001b[0;34m\u001b[0m\u001b[0m\n",
      "\u001b[0;32m~/miniconda3/envs/hkjc/lib/python3.7/http/client.py\u001b[0m in \u001b[0;36mbegin\u001b[0;34m(self)\u001b[0m\n\u001b[1;32m    294\u001b[0m         \u001b[0;31m# read until we get a non-100 response\u001b[0m\u001b[0;34m\u001b[0m\u001b[0;34m\u001b[0m\u001b[0;34m\u001b[0m\u001b[0m\n\u001b[1;32m    295\u001b[0m         \u001b[0;32mwhile\u001b[0m \u001b[0;32mTrue\u001b[0m\u001b[0;34m:\u001b[0m\u001b[0;34m\u001b[0m\u001b[0;34m\u001b[0m\u001b[0m\n\u001b[0;32m--> 296\u001b[0;31m             \u001b[0mversion\u001b[0m\u001b[0;34m,\u001b[0m \u001b[0mstatus\u001b[0m\u001b[0;34m,\u001b[0m \u001b[0mreason\u001b[0m \u001b[0;34m=\u001b[0m \u001b[0mself\u001b[0m\u001b[0;34m.\u001b[0m\u001b[0m_read_status\u001b[0m\u001b[0;34m(\u001b[0m\u001b[0;34m)\u001b[0m\u001b[0;34m\u001b[0m\u001b[0;34m\u001b[0m\u001b[0m\n\u001b[0m\u001b[1;32m    297\u001b[0m             \u001b[0;32mif\u001b[0m \u001b[0mstatus\u001b[0m \u001b[0;34m!=\u001b[0m \u001b[0mCONTINUE\u001b[0m\u001b[0;34m:\u001b[0m\u001b[0;34m\u001b[0m\u001b[0;34m\u001b[0m\u001b[0m\n\u001b[1;32m    298\u001b[0m                 \u001b[0;32mbreak\u001b[0m\u001b[0;34m\u001b[0m\u001b[0;34m\u001b[0m\u001b[0m\n",
      "\u001b[0;32m~/miniconda3/envs/hkjc/lib/python3.7/http/client.py\u001b[0m in \u001b[0;36m_read_status\u001b[0;34m(self)\u001b[0m\n\u001b[1;32m    255\u001b[0m \u001b[0;34m\u001b[0m\u001b[0m\n\u001b[1;32m    256\u001b[0m     \u001b[0;32mdef\u001b[0m \u001b[0m_read_status\u001b[0m\u001b[0;34m(\u001b[0m\u001b[0mself\u001b[0m\u001b[0;34m)\u001b[0m\u001b[0;34m:\u001b[0m\u001b[0;34m\u001b[0m\u001b[0;34m\u001b[0m\u001b[0m\n\u001b[0;32m--> 257\u001b[0;31m         \u001b[0mline\u001b[0m \u001b[0;34m=\u001b[0m \u001b[0mstr\u001b[0m\u001b[0;34m(\u001b[0m\u001b[0mself\u001b[0m\u001b[0;34m.\u001b[0m\u001b[0mfp\u001b[0m\u001b[0;34m.\u001b[0m\u001b[0mreadline\u001b[0m\u001b[0;34m(\u001b[0m\u001b[0m_MAXLINE\u001b[0m \u001b[0;34m+\u001b[0m \u001b[0;36m1\u001b[0m\u001b[0;34m)\u001b[0m\u001b[0;34m,\u001b[0m \u001b[0;34m\"iso-8859-1\"\u001b[0m\u001b[0;34m)\u001b[0m\u001b[0;34m\u001b[0m\u001b[0;34m\u001b[0m\u001b[0m\n\u001b[0m\u001b[1;32m    258\u001b[0m         \u001b[0;32mif\u001b[0m \u001b[0mlen\u001b[0m\u001b[0;34m(\u001b[0m\u001b[0mline\u001b[0m\u001b[0;34m)\u001b[0m \u001b[0;34m>\u001b[0m \u001b[0m_MAXLINE\u001b[0m\u001b[0;34m:\u001b[0m\u001b[0;34m\u001b[0m\u001b[0;34m\u001b[0m\u001b[0m\n\u001b[1;32m    259\u001b[0m             \u001b[0;32mraise\u001b[0m \u001b[0mLineTooLong\u001b[0m\u001b[0;34m(\u001b[0m\u001b[0;34m\"status line\"\u001b[0m\u001b[0;34m)\u001b[0m\u001b[0;34m\u001b[0m\u001b[0;34m\u001b[0m\u001b[0m\n",
      "\u001b[0;32m~/miniconda3/envs/hkjc/lib/python3.7/socket.py\u001b[0m in \u001b[0;36mreadinto\u001b[0;34m(self, b)\u001b[0m\n\u001b[1;32m    587\u001b[0m         \u001b[0;32mwhile\u001b[0m \u001b[0;32mTrue\u001b[0m\u001b[0;34m:\u001b[0m\u001b[0;34m\u001b[0m\u001b[0;34m\u001b[0m\u001b[0m\n\u001b[1;32m    588\u001b[0m             \u001b[0;32mtry\u001b[0m\u001b[0;34m:\u001b[0m\u001b[0;34m\u001b[0m\u001b[0;34m\u001b[0m\u001b[0m\n\u001b[0;32m--> 589\u001b[0;31m                 \u001b[0;32mreturn\u001b[0m \u001b[0mself\u001b[0m\u001b[0;34m.\u001b[0m\u001b[0m_sock\u001b[0m\u001b[0;34m.\u001b[0m\u001b[0mrecv_into\u001b[0m\u001b[0;34m(\u001b[0m\u001b[0mb\u001b[0m\u001b[0;34m)\u001b[0m\u001b[0;34m\u001b[0m\u001b[0;34m\u001b[0m\u001b[0m\n\u001b[0m\u001b[1;32m    590\u001b[0m             \u001b[0;32mexcept\u001b[0m \u001b[0mtimeout\u001b[0m\u001b[0;34m:\u001b[0m\u001b[0;34m\u001b[0m\u001b[0;34m\u001b[0m\u001b[0m\n\u001b[1;32m    591\u001b[0m                 \u001b[0mself\u001b[0m\u001b[0;34m.\u001b[0m\u001b[0m_timeout_occurred\u001b[0m \u001b[0;34m=\u001b[0m \u001b[0;32mTrue\u001b[0m\u001b[0;34m\u001b[0m\u001b[0;34m\u001b[0m\u001b[0m\n",
      "\u001b[0;31mKeyboardInterrupt\u001b[0m: "
     ]
    }
   ],
   "source": [
    "#url = \"https://racing.hkjc.com/racing/Info/Meeting/Results/English/Local/20181216/ST/4\"\n",
    "url = \"https://racing.hkjc.com/racing/Info/Meeting/Results/English/Local/{}\"\n",
    "driver.implicitly_wait(4)\n",
    "\n",
    "\n",
    "url_list = open_url_progress(\"data/race_urls.pickle\")\n",
    "#url_list = {}\n",
    "if not url_list:\n",
    "    url_list = {}\n",
    "    \n",
    "    \n",
    "def update_dict(url_dict, new_url, race_id):\n",
    "    if new_url in url_dict:\n",
    "        url_dict[new_url] = {\"create_date\":datetime.date.today(), \"race_number\": race_id, \"update_date\": None}\n",
    "    else:\n",
    "        url_dict[new_url] = {\"create_date\":datetime.date.today(), \"race_number\": race_id, \"update_date\": None}\n",
    "    return url_dict\n",
    "    \n",
    "current_i = 0\n",
    "for i in range(1000,5000):\n",
    "    current_i = i\n",
    "    target_date = datetime.datetime.now() - datetime.timedelta(days=i)\n",
    "    #display(target_date.strftime(\"%Y%m%d\"))\n",
    "    target_url = url.format(target_date.strftime(\"%Y%m%d\"))\n",
    "    #display(target_url)\n",
    "    driver.get(target_url) \n",
    "    driver.implicitly_wait(4)\n",
    "    try:\n",
    "        element = WebDriverWait(driver, 10).until(lambda x: EC.presence_of_element_located((By.ID, \"mainContainer\"))) #driver.find_elements_by_xpath(\"//*[@id='results']/div[2]/table/tbody/tr/td[@nowrap='nowrap']/a\"))\n",
    "    except e:\n",
    "        if debug:\n",
    "            logging.info(\"Page didn't load: \", driver.current_url)\n",
    "        #print(\"error\")\n",
    "    finally:\n",
    "        pass\n",
    "    \n",
    "    if check_exists_by_xpath(driver, '//*[@id=\"results\"]/div[5]/div[1]'): \n",
    "        #print(\"Page found \")\n",
    "        race_number = get_race_number(driver)\n",
    "        url_list = update_dict(url_list, url, race_number) \n",
    "        element = WebDriverWait(driver, 10).until(lambda x: driver.find_elements_by_xpath(\"//*[@id='results']/div[2]/table/tbody/tr/td[@nowrap='nowrap']/a\"))\n",
    "        #print(element)\n",
    "        for p in element: #driver.find_elements_by_xpath(\"//*[@id='results']/div[2]/table/tbody/tr/td[@nowrap='nowrap']/a\"):\n",
    "            new_url = p.get_attribute(\"href\")\n",
    "            #print(url)\n",
    "            url_list = update_dict(url_list, new_url, race_number)\n",
    "    if (i+1) % 50 ==  0:\n",
    "        display(target_date)\n",
    "        save_url_progress(\"data/race_urls.pickle\", url_list)\n",
    "        #url_list = {}\n",
    "    #print(url_list)\n",
    "save_url_progress(\"data/race_urls.pickle\", url_list)    \n",
    "print(len(url_list))\n",
    "#print(current_i)\n",
    "print(target_date)"
   ]
  },
  {
   "cell_type": "code",
   "execution_count": 212,
   "metadata": {},
   "outputs": [],
   "source": [
    "#save_url_progress(\"data/race_urls.pickle\", url_list)"
   ]
  },
  {
   "cell_type": "code",
   "execution_count": 432,
   "metadata": {},
   "outputs": [],
   "source": [
    "def update_race(location, new_races):\n",
    "    if os.path.isfile(location):\n",
    "        races = pd.read_pickle(location)\n",
    "        #races = races.merge(new_races, how=\"left\", on=[\"date\", \"race_number\"])\n",
    "        races = pd.concat([races, new_races], axis=0, ignore_index=True)\n",
    "        races.to_pickle(location)\n",
    "    else:\n",
    "        new_races.to_pickle(location)\n",
    "\n",
    "def update_race_placement(location, new_race_placements):\n",
    "    if os.path.isfile(location):\n",
    "        placements = pd.read_pickle(location)\n",
    "        #placements = placements.merge(new_race_placements, how=\"left\", on=[\"date\", \"race_number\", \"horse_no\"])\n",
    "        placements = pd.concat([placements, new_race_placements], axis=0, ignore_index=True)\n",
    "        placements.to_pickle(location)\n",
    "    else:\n",
    "        new_race_placements.to_pickle(location)\n",
    "        \n",
    "        \n",
    "def merge_table_ifexist(table1, table2, on):\n",
    "    if len(table1) != 0:\n",
    "        return pd.concat([table1, table2], axis=0)\n",
    "    else:\n",
    "        return table2\n",
    "    \n",
    "    \n",
    "    "
   ]
  },
  {
   "cell_type": "code",
   "execution_count": 410,
   "metadata": {},
   "outputs": [
    {
     "data": {
      "text/plain": [
       "False"
      ]
     },
     "execution_count": 410,
     "metadata": {},
     "output_type": "execute_result"
    }
   ],
   "source": [
    "\n",
    "#race_url_dict = {}\n",
    "#url_list2 = {}\n",
    "#for race_url, value in url_list.items():\n",
    "#    url_list2[race_url] = {\"created_date\": value[0], \"race_number\": value[1], \"updated_date\": None}\n",
    "    \n",
    "#save_url_progress(\"data/race_urls.pickle\", url_list2)\n",
    "#url_list3 = open_url_progress(\"data/race_urls.pickle\")\n",
    "#print(url_list)\n",
    "\n",
    "\"\"\"\n",
    "url_list = open_url_progress(\"data/race_urls.pickle\")\n",
    "for u, v in url_list.items():\n",
    "    if \"updated_date\" in v:\n",
    "        url_list[u][\"update_date\"] = v[\"updated_date\"]\n",
    "        print(v['create_date'], v[\"updated_date\"], url_list[u][\"update_date\"])\n",
    "    else:\n",
    "        print(v[\"update_date\"])\n",
    "    \n",
    "save_url_progress(\"data/race_urls.pickle\", url_list)    \n",
    "\"\"\"\n",
    "\n",
    "\n",
    "#url_list = open_url_progress(\"data/race_urls.pickle\")\n",
    "#url_list.pop('https://racing.hkjc.com/racing/Info/Meeting/Results/English/Local/{}', None)\n",
    "#save_url_progress(\"data/race_urls.pickle\", url_list) \n",
    "#'https://racing.hkjc.com/racing/Info/Meeting/Results/English/Local/{}' in url_list\n"
   ]
  },
  {
   "cell_type": "code",
   "execution_count": 434,
   "metadata": {
    "scrolled": true
   },
   "outputs": [
    {
     "name": "stdout",
     "output_type": "stream",
     "text": [
      "Race Number not found https://racing.hkjc.com/racing/Info/Meeting/Results/English/Local/20161026/HV/4\n",
      "Race Number not found https://racing.hkjc.com/racing/Info/Meeting/Results/English/Local/{}\n",
      "Race Number not found https://racing.hkjc.com/racing/Info/Meeting/Results/English/Local/20160328/ST/9\n",
      "Race Number not found https://racing.hkjc.com/racing/Info/Meeting/Results/English/Local/20160124/ST/4\n",
      "Race Number not found https://racing.hkjc.com/racing/Info/Meeting/Results/English/Local/20160113/HV/2\n",
      "Race Number not found https://racing.hkjc.com/racing/Info/Meeting/Results/English/Local/20160113/HV/4\n",
      "Race Number not found https://racing.hkjc.com/racing/Info/Meeting/Results/English/Local/20160101/ST/6\n",
      "Race Number not found https://racing.hkjc.com/racing/Info/Meeting/Results/English/Local/20151213/ST/6\n",
      "Race Number not found https://racing.hkjc.com/racing/Info/Meeting/Results/English/Local/20151114/ST/10\n",
      "Race Number not found https://racing.hkjc.com/racing/Info/Meeting/Results/English/Local/20151108/ST/9\n",
      "Race Number not found https://racing.hkjc.com/racing/Info/Meeting/Results/English/Local/20151001/ST/5\n"
     ]
    },
    {
     "data": {
      "text/plain": [
       "(50, 42)"
      ]
     },
     "metadata": {},
     "output_type": "display_data"
    },
    {
     "data": {
      "text/plain": [
       "(645, 20)"
      ]
     },
     "metadata": {},
     "output_type": "display_data"
    },
    {
     "name": "stdout",
     "output_type": "stream",
     "text": [
      "Race Number not found https://racing.hkjc.com/racing/Info/Meeting/Results/English/Local/20150701/ST/11\n",
      "Race Number not found https://racing.hkjc.com/racing/Info/Meeting/Results/English/Local/20150520/HV/8\n",
      "Race Number not found https://racing.hkjc.com/racing/Info/Meeting/Results/English/Local/20150516/ST/5\n",
      "Race Number not found https://racing.hkjc.com/racing/Info/Meeting/Results/English/Local/20150516/ST/7\n",
      "Race Number not found https://racing.hkjc.com/racing/Info/Meeting/Results/English/Local/20150513/HV/4\n",
      "Race Number not found https://racing.hkjc.com/racing/Info/Meeting/Results/English/Local/20150509/ST/6\n",
      "Race Number not found https://racing.hkjc.com/racing/Info/Meeting/Results/English/Local/20150422/HV/4\n",
      "Race Number not found https://racing.hkjc.com/racing/Info/Meeting/Results/English/Local/20150419/ST/9\n",
      "Race Number not found https://racing.hkjc.com/racing/Info/Meeting/Results/English/Local/20150412/ST/7\n",
      "Race Number not found https://racing.hkjc.com/racing/Info/Meeting/Results/English/Local/20150407/ST/4\n",
      "Race Number not found https://racing.hkjc.com/racing/Info/Meeting/Results/English/Local/20150207/ST/3\n",
      "Race Number not found https://racing.hkjc.com/racing/Info/Meeting/Results/English/Local/20150207/ST/5\n"
     ]
    },
    {
     "data": {
      "text/plain": [
       "(50, 42)"
      ]
     },
     "metadata": {},
     "output_type": "display_data"
    },
    {
     "data": {
      "text/plain": [
       "(639, 20)"
      ]
     },
     "metadata": {},
     "output_type": "display_data"
    },
    {
     "name": "stdout",
     "output_type": "stream",
     "text": [
      "Race Number not found https://racing.hkjc.com/racing/Info/Meeting/Results/English/Local/20150121/HV/5\n",
      "Race Number not found https://racing.hkjc.com/racing/Info/Meeting/Results/English/Local/20150118/ST/2\n",
      "Race Number not found https://racing.hkjc.com/racing/Info/Meeting/Results/English/Local/20150118/ST/10\n",
      "Race Number not found https://racing.hkjc.com/racing/Info/Meeting/Results/English/Local/20150104/ST/4\n",
      "Race Number not found https://racing.hkjc.com/racing/Info/Meeting/Results/English/Local/20141228/ST/8\n",
      "Race Number not found https://racing.hkjc.com/racing/Info/Meeting/Results/English/Local/20141220/ST/9\n",
      "Race Number not found https://racing.hkjc.com/racing/Info/Meeting/Results/English/Local/20141217/HV/2\n",
      "Race Number not found https://racing.hkjc.com/racing/Info/Meeting/Results/English/Local/20141217/HV/8\n",
      "Race Number not found https://racing.hkjc.com/racing/Info/Meeting/Results/English/Local/20141115/ST/4\n",
      "Race Number not found https://racing.hkjc.com/racing/Info/Meeting/Results/English/Local/20141115/ST/5\n"
     ]
    },
    {
     "data": {
      "text/plain": [
       "(50, 42)"
      ]
     },
     "metadata": {},
     "output_type": "display_data"
    },
    {
     "data": {
      "text/plain": [
       "(641, 20)"
      ]
     },
     "metadata": {},
     "output_type": "display_data"
    },
    {
     "name": "stdout",
     "output_type": "stream",
     "text": [
      "Race Number not found https://racing.hkjc.com/racing/Info/Meeting/Results/English/Local/20141109/ST/3\n",
      "Race Number not found https://racing.hkjc.com/racing/Info/Meeting/Results/English/Local/20141109/ST/5\n",
      "Race Number not found https://racing.hkjc.com/racing/Info/Meeting/Results/English/Local/20141022/HV/5\n",
      "Race Number not found https://racing.hkjc.com/racing/Info/Meeting/Results/English/Local/20141015/ST/8\n",
      "Race Number not found https://racing.hkjc.com/racing/Info/Meeting/Results/English/Local/20141012/ST/2\n",
      "Race Number not found https://racing.hkjc.com/racing/Info/Meeting/Results/English/Local/20141012/ST/3\n",
      "Race Number not found https://racing.hkjc.com/racing/Info/Meeting/Results/English/Local/20141012/ST/5\n",
      "Race Number not found https://racing.hkjc.com/racing/Info/Meeting/Results/English/Local/20140924/ST/2\n",
      "Race Number not found https://racing.hkjc.com/racing/Info/Meeting/Results/English/Local/20140921/ST/5\n",
      "Race Number not found https://racing.hkjc.com/racing/Info/Meeting/Results/English/Local/20140921/ST/8\n",
      "Race Number not found https://racing.hkjc.com/racing/Info/Meeting/Results/English/Local/20140917/ST/3\n",
      "Race Number not found https://racing.hkjc.com/racing/Info/Meeting/Results/English/Local/20140706/ST/8\n",
      "Race Number not found https://racing.hkjc.com/racing/Info/Meeting/Results/English/Local/20140628/ST/2\n",
      "Race Number not found https://racing.hkjc.com/racing/Info/Meeting/Results/English/Local/20140625/ST/4\n",
      "Race Number not found https://racing.hkjc.com/racing/Info/Meeting/Results/English/Local/20140608/ST/2\n",
      "Race Number not found https://racing.hkjc.com/racing/Info/Meeting/Results/English/Local/20140601/ST/4\n",
      "Race Number not found https://racing.hkjc.com/racing/Info/Meeting/Results/English/Local/20140525/ST/11\n",
      "Race Number not found https://racing.hkjc.com/racing/Info/Meeting/Results/English/Local/20140504/ST/3\n",
      "Race Number not found https://racing.hkjc.com/racing/Info/Meeting/Results/English/Local/20140504/ST/7\n",
      "Race Number not found https://racing.hkjc.com/racing/Info/Meeting/Results/English/Local/20140413/ST/10\n",
      "Race Number not found https://racing.hkjc.com/racing/Info/Meeting/Results/English/Local/20140330/ST/5\n"
     ]
    },
    {
     "data": {
      "text/plain": [
       "(50, 42)"
      ]
     },
     "metadata": {},
     "output_type": "display_data"
    },
    {
     "data": {
      "text/plain": [
       "(627, 20)"
      ]
     },
     "metadata": {},
     "output_type": "display_data"
    },
    {
     "name": "stdout",
     "output_type": "stream",
     "text": [
      "Race Number not found https://racing.hkjc.com/racing/Info/Meeting/Results/English/Local/20140101/ST/5\n",
      "Race Number not found https://racing.hkjc.com/racing/Info/Meeting/Results/English/Local/20131016/ST/4\n"
     ]
    },
    {
     "data": {
      "text/plain": [
       "(50, 42)"
      ]
     },
     "metadata": {},
     "output_type": "display_data"
    },
    {
     "data": {
      "text/plain": [
       "(637, 20)"
      ]
     },
     "metadata": {},
     "output_type": "display_data"
    },
    {
     "name": "stdout",
     "output_type": "stream",
     "text": [
      "Race Number not found https://racing.hkjc.com/racing/Info/Meeting/Results/English/Local/20130915/ST/9\n"
     ]
    },
    {
     "data": {
      "text/plain": [
       "(50, 42)"
      ]
     },
     "metadata": {},
     "output_type": "display_data"
    },
    {
     "data": {
      "text/plain": [
       "(651, 20)"
      ]
     },
     "metadata": {},
     "output_type": "display_data"
    },
    {
     "name": "stdout",
     "output_type": "stream",
     "text": [
      "Race Number not found https://racing.hkjc.com/racing/Info/Meeting/Results/English/Local/20130501/ST/8\n",
      "Race Number not found https://racing.hkjc.com/racing/Info/Meeting/Results/English/Local/20130501/ST/9\n",
      "Race Number not found https://racing.hkjc.com/racing/Info/Meeting/Results/English/Local/20130428/ST/9\n",
      "Race Number not found https://racing.hkjc.com/racing/Info/Meeting/Results/English/Local/20130417/HV/8\n",
      "Race Number not found https://racing.hkjc.com/racing/Info/Meeting/Results/English/Local/20130410/HV/6\n",
      "Race Number not found https://racing.hkjc.com/racing/Info/Meeting/Results/English/Local/20130327/HV/8\n",
      "Race Number not found https://racing.hkjc.com/racing/Info/Meeting/Results/English/Local/20130324/ST/2\n",
      "Race Number not found https://racing.hkjc.com/racing/Info/Meeting/Results/English/Local/20130324/ST/3\n",
      "Race Number not found https://racing.hkjc.com/racing/Info/Meeting/Results/English/Local/20130324/ST/6\n"
     ]
    },
    {
     "data": {
      "text/plain": [
       "(50, 42)"
      ]
     },
     "metadata": {},
     "output_type": "display_data"
    },
    {
     "data": {
      "text/plain": [
       "(630, 20)"
      ]
     },
     "metadata": {},
     "output_type": "display_data"
    },
    {
     "name": "stdout",
     "output_type": "stream",
     "text": [
      "Race Number not found https://racing.hkjc.com/racing/Info/Meeting/Results/English/Local/20121125/ST/5\n"
     ]
    },
    {
     "data": {
      "text/plain": [
       "(50, 42)"
      ]
     },
     "metadata": {},
     "output_type": "display_data"
    },
    {
     "data": {
      "text/plain": [
       "(658, 20)"
      ]
     },
     "metadata": {},
     "output_type": "display_data"
    },
    {
     "name": "stdout",
     "output_type": "stream",
     "text": [
      "Race Number not found https://racing.hkjc.com/racing/Info/Meeting/Results/English/Local/20121028/ST/10\n",
      "Race Number not found https://racing.hkjc.com/racing/Info/Meeting/Results/English/Local/20120701/ST/5\n",
      "Race Number not found https://racing.hkjc.com/racing/Info/Meeting/Results/English/Local/20120624/ST/9\n"
     ]
    },
    {
     "data": {
      "text/plain": [
       "(50, 42)"
      ]
     },
     "metadata": {},
     "output_type": "display_data"
    },
    {
     "data": {
      "text/plain": [
       "(645, 20)"
      ]
     },
     "metadata": {},
     "output_type": "display_data"
    },
    {
     "name": "stdout",
     "output_type": "stream",
     "text": [
      "Race Number not found https://racing.hkjc.com/racing/Info/Meeting/Results/English/Local/20120425/HV/4\n",
      "Race Number not found https://racing.hkjc.com/racing/Info/Meeting/Results/English/Local/20120101/ST/6\n",
      "Race Number not found https://racing.hkjc.com/racing/Info/Meeting/Results/English/Local/20111006/HV/4\n",
      "Race Number not found https://racing.hkjc.com/racing/Info/Meeting/Results/English/Local/20111001/ST/8\n",
      "Race Number not found https://racing.hkjc.com/racing/Info/Meeting/Results/English/Local/20110710/ST/9\n",
      "Race Number not found https://racing.hkjc.com/racing/Info/Meeting/Results/English/Local/20110701/ST/6\n"
     ]
    },
    {
     "data": {
      "text/plain": [
       "(50, 42)"
      ]
     },
     "metadata": {},
     "output_type": "display_data"
    },
    {
     "data": {
      "text/plain": [
       "(666, 20)"
      ]
     },
     "metadata": {},
     "output_type": "display_data"
    },
    {
     "name": "stdout",
     "output_type": "stream",
     "text": [
      "Race Number not found https://racing.hkjc.com/racing/Info/Meeting/Results/English/Local/20110701/ST/8\n",
      "Race Number not found https://racing.hkjc.com/racing/Info/Meeting/Results/English/Local/20110626/ST/9\n",
      "Race Number not found https://racing.hkjc.com/racing/Info/Meeting/Results/English/Local/20110626/ST/10\n",
      "Race Number not found https://www.hkjc.com/english/racing/results.asp?raceDate=26/06/2011&raceno=1&venue=S1\n",
      "Race Number not found https://www.hkjc.com/english/racing/results.asp?raceDate=26/06/2011&raceno=2&venue=S1\n",
      "Race Number not found https://racing.hkjc.com/racing/Info/Meeting/Results/English/Local/20110622/HV/6\n",
      "Race Number not found https://racing.hkjc.com/racing/Info/Meeting/Results/English/Local/20110622/HV/8\n",
      "Race Number not found https://racing.hkjc.com/racing/Info/Meeting/Results/English/Local/20110615/HV/4\n",
      "Race Number not found https://racing.hkjc.com/racing/Info/Meeting/Results/English/Local/20110420/HV/5\n",
      "Race Number not found https://racing.hkjc.com/racing/Info/Meeting/Results/English/Local/20110417/HV/6\n"
     ]
    },
    {
     "data": {
      "text/plain": [
       "(50, 42)"
      ]
     },
     "metadata": {},
     "output_type": "display_data"
    },
    {
     "data": {
      "text/plain": [
       "(626, 20)"
      ]
     },
     "metadata": {},
     "output_type": "display_data"
    },
    {
     "name": "stdout",
     "output_type": "stream",
     "text": [
      "Race Number not found https://racing.hkjc.com/racing/Info/Meeting/Results/English/Local/20110406/HV/4\n",
      "Race Number not found https://racing.hkjc.com/racing/Info/Meeting/Results/English/Local/20110323/ST/2\n",
      "Race Number not found https://racing.hkjc.com/racing/Info/Meeting/Results/English/Local/20110312/ST/7\n",
      "Race Number not found https://www.hkjc.com/english/racing/results.asp?raceDate=12/03/2011&raceno=1&venue=S1\n",
      "Race Number not found https://www.hkjc.com/english/racing/results.asp?raceDate=12/03/2011&raceno=2&venue=S1\n",
      "Race Number not found https://racing.hkjc.com/racing/Info/Meeting/Results/English/Local/20110126/HV/4\n"
     ]
    },
    {
     "data": {
      "text/plain": [
       "(50, 42)"
      ]
     },
     "metadata": {},
     "output_type": "display_data"
    },
    {
     "data": {
      "text/plain": [
       "(635, 20)"
      ]
     },
     "metadata": {},
     "output_type": "display_data"
    },
    {
     "name": "stdout",
     "output_type": "stream",
     "text": [
      "Race Number not found https://racing.hkjc.com/racing/Info/Meeting/Results/English/Local/20110123/ST/8\n",
      "Race Number not found https://racing.hkjc.com/racing/Info/Meeting/Results/English/Local/20110116/ST/9\n",
      "Race Number not found https://racing.hkjc.com/racing/Info/Meeting/Results/English/Local/20110105/HV/4\n"
     ]
    },
    {
     "data": {
      "text/plain": [
       "(50, 42)"
      ]
     },
     "metadata": {},
     "output_type": "display_data"
    },
    {
     "data": {
      "text/plain": [
       "(637, 20)"
      ]
     },
     "metadata": {},
     "output_type": "display_data"
    },
    {
     "name": "stdout",
     "output_type": "stream",
     "text": [
      "Race Number not found https://racing.hkjc.com/racing/Info/Meeting/Results/English/Local/20101223/HV/6\n",
      "Race Number not found https://racing.hkjc.com/racing/Info/Meeting/Results/English/Local/20101212/ST/7\n"
     ]
    },
    {
     "data": {
      "text/plain": [
       "(50, 42)"
      ]
     },
     "metadata": {},
     "output_type": "display_data"
    },
    {
     "data": {
      "text/plain": [
       "(644, 20)"
      ]
     },
     "metadata": {},
     "output_type": "display_data"
    },
    {
     "name": "stdout",
     "output_type": "stream",
     "text": [
      "Race Number not found https://www.hkjc.com/english/racing/results.asp?raceDate=28/11/2010&raceno=1&venue=S1\n",
      "Race Number not found https://racing.hkjc.com/racing/Info/Meeting/Results/English/Local/20101124/HV/2\n",
      "Race Number not found https://racing.hkjc.com/racing/Info/Meeting/Results/English/Local/20101121/ST/5\n",
      "Race Number not found https://racing.hkjc.com/racing/Info/Meeting/Results/English/Local/20101121/ST/8\n",
      "Race Number not found https://racing.hkjc.com/racing/Info/Meeting/Results/English/Local/20101117/HV/2\n",
      "Race Number not found https://racing.hkjc.com/racing/Info/Meeting/Results/English/Local/20101117/HV/6\n",
      "Race Number not found https://racing.hkjc.com/racing/Info/Meeting/Results/English/Local/20101110/HV/2\n",
      "Race Number not found https://racing.hkjc.com/racing/Info/Meeting/Results/English/Local/20101110/HV/6\n"
     ]
    },
    {
     "data": {
      "text/plain": [
       "(50, 42)"
      ]
     },
     "metadata": {},
     "output_type": "display_data"
    },
    {
     "data": {
      "text/plain": [
       "(645, 20)"
      ]
     },
     "metadata": {},
     "output_type": "display_data"
    },
    {
     "name": "stdout",
     "output_type": "stream",
     "text": [
      "Race Number not found https://www.hkjc.com/english/racing/results.asp?raceDate=06/11/2010&raceno=1&venue=S1\n",
      "Race Number not found https://www.hkjc.com/english/racing/results.asp?raceDate=06/11/2010&raceno=2&venue=S1\n",
      "Race Number not found https://www.hkjc.com/english/racing/results.asp?raceDate=06/11/2010&raceno=3&venue=S1\n",
      "Race Number not found https://www.hkjc.com/english/racing/results.asp?raceDate=06/11/2010&raceno=4&venue=S1\n",
      "Race Number not found https://www.hkjc.com/english/racing/results.asp?raceDate=06/11/2010&raceno=5&venue=S1\n",
      "Race Number not found https://www.hkjc.com/english/racing/results.asp?raceDate=06/11/2010&raceno=6&venue=S1\n",
      "Race Number not found https://www.hkjc.com/english/racing/results.asp?raceDate=06/11/2010&raceno=7&venue=S1\n",
      "Race Number not found https://www.hkjc.com/english/racing/results.asp?raceDate=06/11/2010&raceno=8&venue=S1\n",
      "Race Number not found https://racing.hkjc.com/racing/Info/Meeting/Results/English/Local/20101020/HV/3\n"
     ]
    },
    {
     "data": {
      "text/plain": [
       "(50, 42)"
      ]
     },
     "metadata": {},
     "output_type": "display_data"
    },
    {
     "data": {
      "text/plain": [
       "(644, 20)"
      ]
     },
     "metadata": {},
     "output_type": "display_data"
    },
    {
     "name": "stdout",
     "output_type": "stream",
     "text": [
      "Race Number not found https://racing.hkjc.com/racing/Info/Meeting/Results/English/Local/20101010/ST/8\n",
      "Race Number not found https://racing.hkjc.com/racing/Info/Meeting/Results/English/Local/20100926/ST/5\n",
      "Race Number not found https://racing.hkjc.com/racing/Info/Meeting/Results/English/Local/20100918/ST/7\n"
     ]
    },
    {
     "data": {
      "text/plain": [
       "(50, 42)"
      ]
     },
     "metadata": {},
     "output_type": "display_data"
    },
    {
     "data": {
      "text/plain": [
       "(625, 20)"
      ]
     },
     "metadata": {},
     "output_type": "display_data"
    },
    {
     "name": "stdout",
     "output_type": "stream",
     "text": [
      "Race Number not found https://racing.hkjc.com/racing/Info/Meeting/Results/English/Local/20100912/ST/8\n",
      "Race Number not found https://www.hkjc.com/english/racing/results.asp?raceDate=12/09/2010&raceno=1&venue=S1\n",
      "Race Number not found https://racing.hkjc.com/racing/Info/Meeting/Results/English/Local/20100905/ST/3\n",
      "Race Number not found https://racing.hkjc.com/racing/Info/Meeting/Results/English/Local/20100905/ST/4\n",
      "Race Number not found https://racing.hkjc.com/racing/Info/Meeting/Results/English/Local/20100711/ST/4\n",
      "Race Number not found https://racing.hkjc.com/racing/Info/Meeting/Results/English/Local/20100711/ST/5\n",
      "Race Number not found https://racing.hkjc.com/racing/Info/Meeting/Results/English/Local/20100707/HV/4\n",
      "Race Number not found https://racing.hkjc.com/racing/Info/Meeting/Results/English/Local/20100707/HV/5\n",
      "Race Number not found https://racing.hkjc.com/racing/Info/Meeting/Results/English/Local/20100707/HV/6\n"
     ]
    },
    {
     "data": {
      "text/plain": [
       "(50, 42)"
      ]
     },
     "metadata": {},
     "output_type": "display_data"
    },
    {
     "data": {
      "text/plain": [
       "(597, 20)"
      ]
     },
     "metadata": {},
     "output_type": "display_data"
    },
    {
     "name": "stdout",
     "output_type": "stream",
     "text": [
      "Race Number not found https://racing.hkjc.com/racing/Info/Meeting/Results/English/Local/20100616/ST/2\n",
      "Race Number not found https://www.hkjc.com/english/racing/results.asp?raceDate=16/06/2010&raceno=1&venue=S2\n"
     ]
    },
    {
     "data": {
      "text/plain": [
       "(50, 42)"
      ]
     },
     "metadata": {},
     "output_type": "display_data"
    },
    {
     "data": {
      "text/plain": [
       "(669, 20)"
      ]
     },
     "metadata": {},
     "output_type": "display_data"
    },
    {
     "name": "stdout",
     "output_type": "stream",
     "text": [
      "Race Number not found https://www.hkjc.com/english/racing/results.asp?raceDate=06/06/2010&raceno=1&venue=S2\n",
      "Race Number not found https://racing.hkjc.com/racing/Info/Meeting/Results/English/Local/20100530/ST/8\n",
      "Race Number not found https://racing.hkjc.com/racing/Info/Meeting/Results/English/Local/20100530/ST/10\n",
      "Race Number not found https://racing.hkjc.com/racing/Info/Meeting/Results/English/Local/20100530/ST/11\n",
      "Race Number not found https://racing.hkjc.com/racing/Info/Meeting/Results/English/Local/20100526/HV/6\n",
      "Race Number not found https://www.hkjc.com/english/racing/results.asp?raceDate=16/05/2010&raceno=1&venue=S1\n",
      "Race Number not found https://www.hkjc.com/english/racing/results.asp?raceDate=16/05/2010&raceno=2&venue=S1\n"
     ]
    },
    {
     "data": {
      "text/plain": [
       "(50, 42)"
      ]
     },
     "metadata": {},
     "output_type": "display_data"
    },
    {
     "data": {
      "text/plain": [
       "(657, 20)"
      ]
     },
     "metadata": {},
     "output_type": "display_data"
    },
    {
     "name": "stdout",
     "output_type": "stream",
     "text": [
      "Race Number not found https://racing.hkjc.com/racing/Info/Meeting/Results/English/Local/20100505/ST/2\n",
      "Race Number not found https://www.hkjc.com/english/racing/results.asp?raceDate=01/05/2010&raceno=1&venue=S1\n",
      "Race Number not found https://www.hkjc.com/english/racing/results.asp?raceDate=01/05/2010&raceno=2&venue=S1\n",
      "Race Number not found https://www.hkjc.com/english/racing/results.asp?raceDate=01/05/2010&raceno=3&venue=S1\n",
      "Race Number not found https://www.hkjc.com/english/racing/results.asp?raceDate=01/05/2010&raceno=4&venue=S1\n",
      "Race Number not found https://racing.hkjc.com/racing/Info/Meeting/Results/English/Local/20100421/HV/6\n",
      "Race Number not found https://racing.hkjc.com/racing/Info/Meeting/Results/English/Local/20100418/HV/2\n",
      "Race Number not found https://racing.hkjc.com/racing/Info/Meeting/Results/English/Local/20100418/HV/5\n",
      "Race Number not found https://racing.hkjc.com/racing/Info/Meeting/Results/English/Local/20100410/ST/2\n",
      "Race Number not found https://racing.hkjc.com/racing/Info/Meeting/Results/English/Local/20100410/ST/4\n",
      "Race Number not found https://racing.hkjc.com/racing/Info/Meeting/Results/English/Local/20100410/ST/6\n",
      "Race Number not found https://racing.hkjc.com/racing/Info/Meeting/Results/English/Local/20100410/ST/8\n"
     ]
    },
    {
     "data": {
      "text/plain": [
       "(50, 42)"
      ]
     },
     "metadata": {},
     "output_type": "display_data"
    },
    {
     "data": {
      "text/plain": [
       "(640, 20)"
      ]
     },
     "metadata": {},
     "output_type": "display_data"
    },
    {
     "data": {
      "text/plain": [
       "(50, 42)"
      ]
     },
     "metadata": {},
     "output_type": "display_data"
    },
    {
     "data": {
      "text/plain": [
       "(658, 20)"
      ]
     },
     "metadata": {},
     "output_type": "display_data"
    },
    {
     "name": "stdout",
     "output_type": "stream",
     "text": [
      "Race Number not found https://www.hkjc.com/english/racing/results.asp?raceDate=06/03/2010&raceno=1&venue=S1\n",
      "Race Number not found https://racing.hkjc.com/racing/Info/Meeting/Results/English/Local/20100228/ST/5\n",
      "Race Number not found https://racing.hkjc.com/racing/Info/Meeting/Results/English/Local/20100228/ST/6\n",
      "Race Number not found https://racing.hkjc.com/racing/Info/Meeting/Results/English/Local/20100224/HV/2\n",
      "Race Number not found https://racing.hkjc.com/racing/Info/Meeting/Results/English/Local/20100224/HV/3\n",
      "Race Number not found https://racing.hkjc.com/racing/Info/Meeting/Results/English/Local/20100224/HV/7\n"
     ]
    },
    {
     "data": {
      "text/plain": [
       "(50, 42)"
      ]
     },
     "metadata": {},
     "output_type": "display_data"
    },
    {
     "data": {
      "text/plain": [
       "(652, 20)"
      ]
     },
     "metadata": {},
     "output_type": "display_data"
    },
    {
     "name": "stdout",
     "output_type": "stream",
     "text": [
      "Race Number not found https://racing.hkjc.com/racing/Info/Meeting/Results/English/Local/20100216/ST/4\n",
      "Race Number not found https://racing.hkjc.com/racing/Info/Meeting/Results/English/Local/20100216/ST/7\n",
      "Race Number not found https://racing.hkjc.com/racing/Info/Meeting/Results/English/Local/20100216/ST/11\n"
     ]
    },
    {
     "data": {
      "text/plain": [
       "(50, 42)"
      ]
     },
     "metadata": {},
     "output_type": "display_data"
    },
    {
     "data": {
      "text/plain": [
       "(644, 20)"
      ]
     },
     "metadata": {},
     "output_type": "display_data"
    },
    {
     "name": "stdout",
     "output_type": "stream",
     "text": [
      "Race Number not found https://racing.hkjc.com/racing/Info/Meeting/Results/English/Local/20100124/ST/4\n",
      "Race Number not found https://racing.hkjc.com/racing/Info/Meeting/Results/English/Local/20100120/HV/7\n",
      "Race Number not found https://racing.hkjc.com/racing/Info/Meeting/Results/English/Local/20100120/HV/8\n",
      "Race Number not found https://racing.hkjc.com/racing/Info/Meeting/Results/English/Local/20100116/ST/2\n",
      "Race Number not found https://racing.hkjc.com/racing/Info/Meeting/Results/English/Local/20100116/ST/3\n",
      "Race Number not found https://racing.hkjc.com/racing/Info/Meeting/Results/English/Local/20100116/ST/4\n",
      "Race Number not found https://racing.hkjc.com/racing/Info/Meeting/Results/English/Local/20100116/ST/5\n",
      "Race Number not found https://racing.hkjc.com/racing/Info/Meeting/Results/English/Local/20100116/ST/6\n",
      "Race Number not found https://racing.hkjc.com/racing/Info/Meeting/Results/English/Local/20100116/ST/7\n",
      "Race Number not found https://racing.hkjc.com/racing/Info/Meeting/Results/English/Local/20100116/ST/8\n",
      "Race Number not found https://racing.hkjc.com/racing/Info/Meeting/Results/English/Local/20100116/ST/9\n",
      "Race Number not found https://racing.hkjc.com/racing/Info/Meeting/Results/English/Local/20100116/ST/10\n",
      "Race Number not found https://racing.hkjc.com/racing/Info/Meeting/Results/English/Local/20100113/HV/2\n",
      "Race Number not found https://racing.hkjc.com/racing/Info/Meeting/Results/English/Local/20100113/HV/3\n",
      "Race Number not found https://racing.hkjc.com/racing/Info/Meeting/Results/English/Local/20100113/HV/4\n",
      "Race Number not found https://racing.hkjc.com/racing/Info/Meeting/Results/English/Local/20100113/HV/5\n",
      "Race Number not found https://racing.hkjc.com/racing/Info/Meeting/Results/English/Local/20100113/HV/6\n",
      "Race Number not found https://racing.hkjc.com/racing/Info/Meeting/Results/English/Local/20100113/HV/7\n",
      "Race Number not found https://racing.hkjc.com/racing/Info/Meeting/Results/English/Local/20100113/HV/8\n",
      "Race Number not found https://racing.hkjc.com/racing/Info/Meeting/Results/English/Local/20100110/ST/2\n",
      "Race Number not found https://racing.hkjc.com/racing/Info/Meeting/Results/English/Local/20100110/ST/3\n",
      "Race Number not found https://racing.hkjc.com/racing/Info/Meeting/Results/English/Local/20100110/ST/4\n",
      "Race Number not found https://racing.hkjc.com/racing/Info/Meeting/Results/English/Local/20100110/ST/5\n",
      "Race Number not found https://racing.hkjc.com/racing/Info/Meeting/Results/English/Local/20100110/ST/6\n",
      "Race Number not found https://racing.hkjc.com/racing/Info/Meeting/Results/English/Local/20100110/ST/7\n",
      "Race Number not found https://racing.hkjc.com/racing/Info/Meeting/Results/English/Local/20100110/ST/8\n",
      "Race Number not found https://racing.hkjc.com/racing/Info/Meeting/Results/English/Local/20100110/ST/9\n",
      "Race Number not found https://racing.hkjc.com/racing/Info/Meeting/Results/English/Local/20100110/ST/10\n",
      "Race Number not found https://racing.hkjc.com/racing/Info/Meeting/Results/English/Local/20100106/HV/2\n",
      "Race Number not found https://racing.hkjc.com/racing/Info/Meeting/Results/English/Local/20100106/HV/3\n",
      "Race Number not found https://racing.hkjc.com/racing/Info/Meeting/Results/English/Local/20100106/HV/4\n",
      "Race Number not found https://racing.hkjc.com/racing/Info/Meeting/Results/English/Local/20100106/HV/5\n",
      "Race Number not found https://racing.hkjc.com/racing/Info/Meeting/Results/English/Local/20100106/HV/6\n",
      "Race Number not found https://racing.hkjc.com/racing/Info/Meeting/Results/English/Local/20100106/HV/7\n",
      "Race Number not found https://racing.hkjc.com/racing/Info/Meeting/Results/English/Local/20100106/HV/8\n",
      "Race Number not found https://racing.hkjc.com/racing/Info/Meeting/Results/English/Local/20100101/ST/2\n",
      "Race Number not found https://racing.hkjc.com/racing/Info/Meeting/Results/English/Local/20100101/ST/3\n",
      "Race Number not found https://racing.hkjc.com/racing/Info/Meeting/Results/English/Local/20100101/ST/4\n",
      "Race Number not found https://racing.hkjc.com/racing/Info/Meeting/Results/English/Local/20100101/ST/5\n",
      "Race Number not found https://racing.hkjc.com/racing/Info/Meeting/Results/English/Local/20100101/ST/6\n",
      "Race Number not found https://racing.hkjc.com/racing/Info/Meeting/Results/English/Local/20100101/ST/7\n",
      "Race Number not found https://racing.hkjc.com/racing/Info/Meeting/Results/English/Local/20100101/ST/9\n",
      "Race Number not found https://racing.hkjc.com/racing/Info/Meeting/Results/English/Local/20100101/ST/10\n",
      "Race Number not found https://racing.hkjc.com/racing/Info/Meeting/Results/English/Local/20091227/ST/2\n",
      "Race Number not found https://racing.hkjc.com/racing/Info/Meeting/Results/English/Local/20091227/ST/5\n",
      "Race Number not found https://racing.hkjc.com/racing/Info/Meeting/Results/English/Local/20091227/ST/8\n",
      "Race Number not found https://racing.hkjc.com/racing/Info/Meeting/Results/English/Local/20091227/ST/10\n",
      "Race Number not found https://racing.hkjc.com/racing/Info/Meeting/Results/English/Local/20091223/HV/3\n",
      "Race Number not found https://racing.hkjc.com/racing/Info/Meeting/Results/English/Local/20091223/HV/5\n",
      "Race Number not found https://racing.hkjc.com/racing/Info/Meeting/Results/English/Local/20091223/HV/6\n",
      "Race Number not found https://racing.hkjc.com/racing/Info/Meeting/Results/English/Local/20091223/HV/8\n",
      "Race Number not found https://racing.hkjc.com/racing/Info/Meeting/Results/English/Local/20091219/ST/3\n",
      "Race Number not found https://racing.hkjc.com/racing/Info/Meeting/Results/English/Local/20091219/ST/5\n",
      "Race Number not found https://racing.hkjc.com/racing/Info/Meeting/Results/English/Local/20091219/ST/8\n",
      "Race Number not found https://racing.hkjc.com/racing/Info/Meeting/Results/English/Local/20091216/HV/3\n",
      "Race Number not found https://racing.hkjc.com/racing/Info/Meeting/Results/English/Local/20091216/HV/5\n",
      "Race Number not found https://racing.hkjc.com/racing/Info/Meeting/Results/English/Local/20091216/HV/7\n",
      "Race Number not found https://racing.hkjc.com/racing/Info/Meeting/Results/English/Local/20091213/ST/2\n",
      "Race Number not found https://racing.hkjc.com/racing/Info/Meeting/Results/English/Local/20091213/ST/6\n",
      "Race Number not found https://racing.hkjc.com/racing/Info/Meeting/Results/English/Local/20091213/ST/7\n",
      "Race Number not found https://racing.hkjc.com/racing/Info/Meeting/Results/English/Local/20091209/HV/2\n"
     ]
    },
    {
     "data": {
      "text/plain": [
       "(50, 42)"
      ]
     },
     "metadata": {},
     "output_type": "display_data"
    },
    {
     "data": {
      "text/plain": [
       "(652, 20)"
      ]
     },
     "metadata": {},
     "output_type": "display_data"
    },
    {
     "name": "stdout",
     "output_type": "stream",
     "text": [
      "Race Number not found https://racing.hkjc.com/racing/Info/Meeting/Results/English/Local/20091202/HV/2\n",
      "Race Number not found https://www.hkjc.com/english/racing/results.asp?raceDate=29/11/2009&raceno=1&venue=S1\n",
      "Race Number not found https://racing.hkjc.com/racing/Info/Meeting/Results/English/Local/20091115/ST/2\n"
     ]
    },
    {
     "data": {
      "text/plain": [
       "(50, 42)"
      ]
     },
     "metadata": {},
     "output_type": "display_data"
    },
    {
     "data": {
      "text/plain": [
       "(656, 20)"
      ]
     },
     "metadata": {},
     "output_type": "display_data"
    },
    {
     "name": "stdout",
     "output_type": "stream",
     "text": [
      "Race Number not found https://www.hkjc.com/english/racing/results.asp?raceDate=07/11/2009&raceno=1&venue=S1\n"
     ]
    },
    {
     "ename": "TimeoutException",
     "evalue": "Message: timeout\n  (Session info: chrome=71.0.3578.80)\n  (Driver info: chromedriver=71.0.3578.80,platform=Linux 4.15.0-43-generic x86_64)\n",
     "output_type": "error",
     "traceback": [
      "\u001b[0;31m---------------------------------------------------------------------------\u001b[0m",
      "\u001b[0;31mTimeoutException\u001b[0m                          Traceback (most recent call last)",
      "\u001b[0;32m<ipython-input-434-6b2e5da75a4d>\u001b[0m in \u001b[0;36m<module>\u001b[0;34m\u001b[0m\n\u001b[1;32m     15\u001b[0m         \u001b[0;32melse\u001b[0m\u001b[0;34m:\u001b[0m\u001b[0;34m\u001b[0m\u001b[0;34m\u001b[0m\u001b[0m\n\u001b[1;32m     16\u001b[0m             \u001b[0;31m#display(race_url)\u001b[0m\u001b[0;34m\u001b[0m\u001b[0;34m\u001b[0m\u001b[0;34m\u001b[0m\u001b[0m\n\u001b[0;32m---> 17\u001b[0;31m             \u001b[0mdriver\u001b[0m\u001b[0;34m.\u001b[0m\u001b[0mget\u001b[0m\u001b[0;34m(\u001b[0m\u001b[0mrace_url\u001b[0m\u001b[0;34m)\u001b[0m\u001b[0;34m\u001b[0m\u001b[0;34m\u001b[0m\u001b[0m\n\u001b[0m\u001b[1;32m     18\u001b[0m             \u001b[0mrace_number\u001b[0m \u001b[0;34m=\u001b[0m \u001b[0mget_race_number\u001b[0m\u001b[0;34m(\u001b[0m\u001b[0mdriver\u001b[0m\u001b[0;34m)\u001b[0m\u001b[0;34m\u001b[0m\u001b[0;34m\u001b[0m\u001b[0m\n\u001b[1;32m     19\u001b[0m             \u001b[0;32mif\u001b[0m \u001b[0mrace_number\u001b[0m\u001b[0;34m:\u001b[0m\u001b[0;34m\u001b[0m\u001b[0;34m\u001b[0m\u001b[0m\n",
      "\u001b[0;32m~/miniconda3/envs/hkjc/lib/python3.7/site-packages/selenium/webdriver/remote/webdriver.py\u001b[0m in \u001b[0;36mget\u001b[0;34m(self, url)\u001b[0m\n\u001b[1;32m    331\u001b[0m         \u001b[0mLoads\u001b[0m \u001b[0ma\u001b[0m \u001b[0mweb\u001b[0m \u001b[0mpage\u001b[0m \u001b[0;32min\u001b[0m \u001b[0mthe\u001b[0m \u001b[0mcurrent\u001b[0m \u001b[0mbrowser\u001b[0m \u001b[0msession\u001b[0m\u001b[0;34m.\u001b[0m\u001b[0;34m\u001b[0m\u001b[0;34m\u001b[0m\u001b[0m\n\u001b[1;32m    332\u001b[0m         \"\"\"\n\u001b[0;32m--> 333\u001b[0;31m         \u001b[0mself\u001b[0m\u001b[0;34m.\u001b[0m\u001b[0mexecute\u001b[0m\u001b[0;34m(\u001b[0m\u001b[0mCommand\u001b[0m\u001b[0;34m.\u001b[0m\u001b[0mGET\u001b[0m\u001b[0;34m,\u001b[0m \u001b[0;34m{\u001b[0m\u001b[0;34m'url'\u001b[0m\u001b[0;34m:\u001b[0m \u001b[0murl\u001b[0m\u001b[0;34m}\u001b[0m\u001b[0;34m)\u001b[0m\u001b[0;34m\u001b[0m\u001b[0;34m\u001b[0m\u001b[0m\n\u001b[0m\u001b[1;32m    334\u001b[0m \u001b[0;34m\u001b[0m\u001b[0m\n\u001b[1;32m    335\u001b[0m     \u001b[0;34m@\u001b[0m\u001b[0mproperty\u001b[0m\u001b[0;34m\u001b[0m\u001b[0;34m\u001b[0m\u001b[0m\n",
      "\u001b[0;32m~/miniconda3/envs/hkjc/lib/python3.7/site-packages/selenium/webdriver/remote/webdriver.py\u001b[0m in \u001b[0;36mexecute\u001b[0;34m(self, driver_command, params)\u001b[0m\n\u001b[1;32m    319\u001b[0m         \u001b[0mresponse\u001b[0m \u001b[0;34m=\u001b[0m \u001b[0mself\u001b[0m\u001b[0;34m.\u001b[0m\u001b[0mcommand_executor\u001b[0m\u001b[0;34m.\u001b[0m\u001b[0mexecute\u001b[0m\u001b[0;34m(\u001b[0m\u001b[0mdriver_command\u001b[0m\u001b[0;34m,\u001b[0m \u001b[0mparams\u001b[0m\u001b[0;34m)\u001b[0m\u001b[0;34m\u001b[0m\u001b[0;34m\u001b[0m\u001b[0m\n\u001b[1;32m    320\u001b[0m         \u001b[0;32mif\u001b[0m \u001b[0mresponse\u001b[0m\u001b[0;34m:\u001b[0m\u001b[0;34m\u001b[0m\u001b[0;34m\u001b[0m\u001b[0m\n\u001b[0;32m--> 321\u001b[0;31m             \u001b[0mself\u001b[0m\u001b[0;34m.\u001b[0m\u001b[0merror_handler\u001b[0m\u001b[0;34m.\u001b[0m\u001b[0mcheck_response\u001b[0m\u001b[0;34m(\u001b[0m\u001b[0mresponse\u001b[0m\u001b[0;34m)\u001b[0m\u001b[0;34m\u001b[0m\u001b[0;34m\u001b[0m\u001b[0m\n\u001b[0m\u001b[1;32m    322\u001b[0m             response['value'] = self._unwrap_value(\n\u001b[1;32m    323\u001b[0m                 response.get('value', None))\n",
      "\u001b[0;32m~/miniconda3/envs/hkjc/lib/python3.7/site-packages/selenium/webdriver/remote/errorhandler.py\u001b[0m in \u001b[0;36mcheck_response\u001b[0;34m(self, response)\u001b[0m\n\u001b[1;32m    240\u001b[0m                 \u001b[0malert_text\u001b[0m \u001b[0;34m=\u001b[0m \u001b[0mvalue\u001b[0m\u001b[0;34m[\u001b[0m\u001b[0;34m'alert'\u001b[0m\u001b[0;34m]\u001b[0m\u001b[0;34m.\u001b[0m\u001b[0mget\u001b[0m\u001b[0;34m(\u001b[0m\u001b[0;34m'text'\u001b[0m\u001b[0;34m)\u001b[0m\u001b[0;34m\u001b[0m\u001b[0;34m\u001b[0m\u001b[0m\n\u001b[1;32m    241\u001b[0m             \u001b[0;32mraise\u001b[0m \u001b[0mexception_class\u001b[0m\u001b[0;34m(\u001b[0m\u001b[0mmessage\u001b[0m\u001b[0;34m,\u001b[0m \u001b[0mscreen\u001b[0m\u001b[0;34m,\u001b[0m \u001b[0mstacktrace\u001b[0m\u001b[0;34m,\u001b[0m \u001b[0malert_text\u001b[0m\u001b[0;34m)\u001b[0m\u001b[0;34m\u001b[0m\u001b[0;34m\u001b[0m\u001b[0m\n\u001b[0;32m--> 242\u001b[0;31m         \u001b[0;32mraise\u001b[0m \u001b[0mexception_class\u001b[0m\u001b[0;34m(\u001b[0m\u001b[0mmessage\u001b[0m\u001b[0;34m,\u001b[0m \u001b[0mscreen\u001b[0m\u001b[0;34m,\u001b[0m \u001b[0mstacktrace\u001b[0m\u001b[0;34m)\u001b[0m\u001b[0;34m\u001b[0m\u001b[0;34m\u001b[0m\u001b[0m\n\u001b[0m\u001b[1;32m    243\u001b[0m \u001b[0;34m\u001b[0m\u001b[0m\n\u001b[1;32m    244\u001b[0m     \u001b[0;32mdef\u001b[0m \u001b[0m_value_or_default\u001b[0m\u001b[0;34m(\u001b[0m\u001b[0mself\u001b[0m\u001b[0;34m,\u001b[0m \u001b[0mobj\u001b[0m\u001b[0;34m,\u001b[0m \u001b[0mkey\u001b[0m\u001b[0;34m,\u001b[0m \u001b[0mdefault\u001b[0m\u001b[0;34m)\u001b[0m\u001b[0;34m:\u001b[0m\u001b[0;34m\u001b[0m\u001b[0;34m\u001b[0m\u001b[0m\n",
      "\u001b[0;31mTimeoutException\u001b[0m: Message: timeout\n  (Session info: chrome=71.0.3578.80)\n  (Driver info: chromedriver=71.0.3578.80,platform=Linux 4.15.0-43-generic x86_64)\n"
     ]
    }
   ],
   "source": [
    "\n",
    "#url_list\n",
    "url_list = open_url_progress(\"data/race_urls.pickle\")\n",
    "#display(url_list2)\n",
    "#display(url_list)\n",
    "driver.implicitly_wait(4)\n",
    "races_table = pd.DataFrame()\n",
    "placement_table = pd.DataFrame()\n",
    "counter = 0\n",
    "for race_url, value in url_list.items():\n",
    "    #display(value[\"update_date\"])\n",
    "    if value[\"update_date\"] == None or value[\"update_date\"] < datetime.datetime.now() - datetime.timedelta(days=30):\n",
    "        if 'https://racing.hkjc.com/racing/Info/Meeting/Results/English/Simulcast/' == race_url[:70]:\n",
    "            url_list[race_url][\"update_date\"] = datetime.datetime.now() + datetime.timedelta(days=365)\n",
    "        else:\n",
    "            #display(race_url)\n",
    "            driver.get(race_url)\n",
    "            race_number = get_race_number(driver)\n",
    "            if race_number:\n",
    "                race, placement = get_race_info(driver, race_url, race_number)\n",
    "                #display(races_table, race)\n",
    "                races_table = merge_table_ifexist(races_table, race, [\"date\", \"race_number\"]) #races_table.merge(race, how=\"left\", on=[\"date\", \"race_number\"])\n",
    "                #display(placement_table)\n",
    "                placement_table = merge_table_ifexist(placement_table, placement, [\"race_date\", \"race_number\", \"horse_no\"])#placement_table.merge(placement, how=\"left\", on=['date', 'race_number', 'horse_no'])\n",
    "                url_list[race_url][\"update_date\"] = datetime.datetime.now() \n",
    "                counter += 1\n",
    "                if (counter) % 50 == 0:\n",
    "                    display(races_table.shape, placement_table.shape)\n",
    "                    update_race(\"data/race_table.pickle\", races_table)\n",
    "                    update_race_placement(\"data/race_placements.pickle\", placement_table)\n",
    "                    races_table = pd.DataFrame()\n",
    "                    placement_table = pd.DataFrame()\n",
    "                    save_url_progress(\"data/race_urls.pickle\", url_list)\n",
    "            else:\n",
    "                print(\"Race Number not found\", race_url)\n",
    "                if driver.current_url.split(\"?\")[0] == \"https://racing.hkjc.com/racing/overseas/English/Results.aspx\":\n",
    "                    url_list[race_url][\"update_date\"] = datetime.datetime.now() + datetime.timedelta(days=365)\n",
    "                \n",
    "                \n",
    "update_race(\"data/race_table.pickle\", races_table)\n",
    "update_race_placement(\"data/race_placements.pickle\", placement_table)\n",
    "save_url_progress(\"data/race_urls.pickle\", url_list);"
   ]
  },
  {
   "cell_type": "code",
   "execution_count": 347,
   "metadata": {},
   "outputs": [
    {
     "ename": "ValueError",
     "evalue": "arrays must all be same length",
     "output_type": "error",
     "traceback": [
      "\u001b[0;31m---------------------------------------------------------------------------\u001b[0m",
      "\u001b[0;31mValueError\u001b[0m                                Traceback (most recent call last)",
      "\u001b[0;32m<ipython-input-347-8eb24e5f91ad>\u001b[0m in \u001b[0;36m<module>\u001b[0;34m\u001b[0m\n\u001b[1;32m      3\u001b[0m \u001b[0;31m#race\u001b[0m\u001b[0;34m\u001b[0m\u001b[0;34m\u001b[0m\u001b[0;34m\u001b[0m\u001b[0m\n\u001b[1;32m      4\u001b[0m \u001b[0;34m\u001b[0m\u001b[0m\n\u001b[0;32m----> 5\u001b[0;31m \u001b[0mget_horse_placement\u001b[0m\u001b[0;34m(\u001b[0m\u001b[0mdriver\u001b[0m\u001b[0;34m)\u001b[0m\u001b[0;34m\u001b[0m\u001b[0;34m\u001b[0m\u001b[0m\n\u001b[0m",
      "\u001b[0;32m<ipython-input-343-43ea22cfe1a0>\u001b[0m in \u001b[0;36mget_horse_placement\u001b[0;34m(page)\u001b[0m\n\u001b[1;32m     42\u001b[0m                 \u001b[0mresult\u001b[0m\u001b[0;34m[\u001b[0m\u001b[0mi\u001b[0m\u001b[0;34m]\u001b[0m\u001b[0;34m.\u001b[0m\u001b[0mappend\u001b[0m\u001b[0;34m(\u001b[0m\u001b[0mj\u001b[0m\u001b[0;34m.\u001b[0m\u001b[0mtext\u001b[0m\u001b[0;34m)\u001b[0m\u001b[0;34m\u001b[0m\u001b[0;34m\u001b[0m\u001b[0m\n\u001b[1;32m     43\u001b[0m             \u001b[0;31m#display(j.get_attribute(\"innerHTML\"))\u001b[0m\u001b[0;34m\u001b[0m\u001b[0;34m\u001b[0m\u001b[0;34m\u001b[0m\u001b[0m\n\u001b[0;32m---> 44\u001b[0;31m     \u001b[0mres\u001b[0m \u001b[0;34m=\u001b[0m \u001b[0mpd\u001b[0m\u001b[0;34m.\u001b[0m\u001b[0mDataFrame\u001b[0m\u001b[0;34m(\u001b[0m\u001b[0mresult\u001b[0m\u001b[0;34m)\u001b[0m \u001b[0;31m#, columns=[\"pla\", \"horse_no\", \"horse\", \"jockey\", \"trainer\", \"actual_wt\", \"declare_horse_wt\", \"draw\", \"LBW\", \"running_position\", \"finish_time\", \"win_odds\", \"horse_url\", \"jockey_url\", \"trainer_url\"]))\u001b[0m\u001b[0;34m\u001b[0m\u001b[0;34m\u001b[0m\u001b[0m\n\u001b[0m\u001b[1;32m     45\u001b[0m     \u001b[0mres\u001b[0m\u001b[0;34m.\u001b[0m\u001b[0mcolumns\u001b[0m \u001b[0;34m=\u001b[0m \u001b[0;34m[\u001b[0m\u001b[0;34m\"pla\"\u001b[0m\u001b[0;34m,\u001b[0m \u001b[0;34m\"horse_no\"\u001b[0m\u001b[0;34m,\u001b[0m \u001b[0;34m\"horse\"\u001b[0m\u001b[0;34m,\u001b[0m \u001b[0;34m\"jockey\"\u001b[0m\u001b[0;34m,\u001b[0m \u001b[0;34m\"trainer\"\u001b[0m\u001b[0;34m,\u001b[0m \u001b[0;34m\"actual_wt\"\u001b[0m\u001b[0;34m,\u001b[0m \u001b[0;34m\"declare_horse_wt\"\u001b[0m\u001b[0;34m,\u001b[0m \u001b[0;34m\"draw\"\u001b[0m\u001b[0;34m,\u001b[0m \u001b[0;34m\"LBW\"\u001b[0m\u001b[0;34m,\u001b[0m \u001b[0;34m\"running_position\"\u001b[0m\u001b[0;34m,\u001b[0m \u001b[0;34m\"finish_time\"\u001b[0m\u001b[0;34m,\u001b[0m \u001b[0;34m\"win_odds\"\u001b[0m\u001b[0;34m,\u001b[0m \u001b[0;34m\"horse_url\"\u001b[0m\u001b[0;34m,\u001b[0m \u001b[0;34m\"jockey_url\"\u001b[0m\u001b[0;34m,\u001b[0m \u001b[0;34m\"trainer_url\"\u001b[0m\u001b[0;34m]\u001b[0m\u001b[0;34m\u001b[0m\u001b[0;34m\u001b[0m\u001b[0m\n\u001b[1;32m     46\u001b[0m     \u001b[0;31m#display(res)\u001b[0m\u001b[0;34m\u001b[0m\u001b[0;34m\u001b[0m\u001b[0;34m\u001b[0m\u001b[0m\n",
      "\u001b[0;32m~/miniconda3/envs/hkjc/lib/python3.7/site-packages/pandas/core/frame.py\u001b[0m in \u001b[0;36m__init__\u001b[0;34m(self, data, index, columns, dtype, copy)\u001b[0m\n\u001b[1;32m    346\u001b[0m                                  dtype=dtype, copy=copy)\n\u001b[1;32m    347\u001b[0m         \u001b[0;32melif\u001b[0m \u001b[0misinstance\u001b[0m\u001b[0;34m(\u001b[0m\u001b[0mdata\u001b[0m\u001b[0;34m,\u001b[0m \u001b[0mdict\u001b[0m\u001b[0;34m)\u001b[0m\u001b[0;34m:\u001b[0m\u001b[0;34m\u001b[0m\u001b[0;34m\u001b[0m\u001b[0m\n\u001b[0;32m--> 348\u001b[0;31m             \u001b[0mmgr\u001b[0m \u001b[0;34m=\u001b[0m \u001b[0mself\u001b[0m\u001b[0;34m.\u001b[0m\u001b[0m_init_dict\u001b[0m\u001b[0;34m(\u001b[0m\u001b[0mdata\u001b[0m\u001b[0;34m,\u001b[0m \u001b[0mindex\u001b[0m\u001b[0;34m,\u001b[0m \u001b[0mcolumns\u001b[0m\u001b[0;34m,\u001b[0m \u001b[0mdtype\u001b[0m\u001b[0;34m=\u001b[0m\u001b[0mdtype\u001b[0m\u001b[0;34m)\u001b[0m\u001b[0;34m\u001b[0m\u001b[0;34m\u001b[0m\u001b[0m\n\u001b[0m\u001b[1;32m    349\u001b[0m         \u001b[0;32melif\u001b[0m \u001b[0misinstance\u001b[0m\u001b[0;34m(\u001b[0m\u001b[0mdata\u001b[0m\u001b[0;34m,\u001b[0m \u001b[0mma\u001b[0m\u001b[0;34m.\u001b[0m\u001b[0mMaskedArray\u001b[0m\u001b[0;34m)\u001b[0m\u001b[0;34m:\u001b[0m\u001b[0;34m\u001b[0m\u001b[0;34m\u001b[0m\u001b[0m\n\u001b[1;32m    350\u001b[0m             \u001b[0;32mimport\u001b[0m \u001b[0mnumpy\u001b[0m\u001b[0;34m.\u001b[0m\u001b[0mma\u001b[0m\u001b[0;34m.\u001b[0m\u001b[0mmrecords\u001b[0m \u001b[0;32mas\u001b[0m \u001b[0mmrecords\u001b[0m\u001b[0;34m\u001b[0m\u001b[0;34m\u001b[0m\u001b[0m\n",
      "\u001b[0;32m~/miniconda3/envs/hkjc/lib/python3.7/site-packages/pandas/core/frame.py\u001b[0m in \u001b[0;36m_init_dict\u001b[0;34m(self, data, index, columns, dtype)\u001b[0m\n\u001b[1;32m    457\u001b[0m             \u001b[0marrays\u001b[0m \u001b[0;34m=\u001b[0m \u001b[0;34m[\u001b[0m\u001b[0mdata\u001b[0m\u001b[0;34m[\u001b[0m\u001b[0mk\u001b[0m\u001b[0;34m]\u001b[0m \u001b[0;32mfor\u001b[0m \u001b[0mk\u001b[0m \u001b[0;32min\u001b[0m \u001b[0mkeys\u001b[0m\u001b[0;34m]\u001b[0m\u001b[0;34m\u001b[0m\u001b[0;34m\u001b[0m\u001b[0m\n\u001b[1;32m    458\u001b[0m \u001b[0;34m\u001b[0m\u001b[0m\n\u001b[0;32m--> 459\u001b[0;31m         \u001b[0;32mreturn\u001b[0m \u001b[0m_arrays_to_mgr\u001b[0m\u001b[0;34m(\u001b[0m\u001b[0marrays\u001b[0m\u001b[0;34m,\u001b[0m \u001b[0mdata_names\u001b[0m\u001b[0;34m,\u001b[0m \u001b[0mindex\u001b[0m\u001b[0;34m,\u001b[0m \u001b[0mcolumns\u001b[0m\u001b[0;34m,\u001b[0m \u001b[0mdtype\u001b[0m\u001b[0;34m=\u001b[0m\u001b[0mdtype\u001b[0m\u001b[0;34m)\u001b[0m\u001b[0;34m\u001b[0m\u001b[0;34m\u001b[0m\u001b[0m\n\u001b[0m\u001b[1;32m    460\u001b[0m \u001b[0;34m\u001b[0m\u001b[0m\n\u001b[1;32m    461\u001b[0m     \u001b[0;32mdef\u001b[0m \u001b[0m_init_ndarray\u001b[0m\u001b[0;34m(\u001b[0m\u001b[0mself\u001b[0m\u001b[0;34m,\u001b[0m \u001b[0mvalues\u001b[0m\u001b[0;34m,\u001b[0m \u001b[0mindex\u001b[0m\u001b[0;34m,\u001b[0m \u001b[0mcolumns\u001b[0m\u001b[0;34m,\u001b[0m \u001b[0mdtype\u001b[0m\u001b[0;34m=\u001b[0m\u001b[0;32mNone\u001b[0m\u001b[0;34m,\u001b[0m \u001b[0mcopy\u001b[0m\u001b[0;34m=\u001b[0m\u001b[0;32mFalse\u001b[0m\u001b[0;34m)\u001b[0m\u001b[0;34m:\u001b[0m\u001b[0;34m\u001b[0m\u001b[0;34m\u001b[0m\u001b[0m\n",
      "\u001b[0;32m~/miniconda3/envs/hkjc/lib/python3.7/site-packages/pandas/core/frame.py\u001b[0m in \u001b[0;36m_arrays_to_mgr\u001b[0;34m(arrays, arr_names, index, columns, dtype)\u001b[0m\n\u001b[1;32m   7354\u001b[0m     \u001b[0;31m# figure out the index, if necessary\u001b[0m\u001b[0;34m\u001b[0m\u001b[0;34m\u001b[0m\u001b[0;34m\u001b[0m\u001b[0m\n\u001b[1;32m   7355\u001b[0m     \u001b[0;32mif\u001b[0m \u001b[0mindex\u001b[0m \u001b[0;32mis\u001b[0m \u001b[0;32mNone\u001b[0m\u001b[0;34m:\u001b[0m\u001b[0;34m\u001b[0m\u001b[0;34m\u001b[0m\u001b[0m\n\u001b[0;32m-> 7356\u001b[0;31m         \u001b[0mindex\u001b[0m \u001b[0;34m=\u001b[0m \u001b[0mextract_index\u001b[0m\u001b[0;34m(\u001b[0m\u001b[0marrays\u001b[0m\u001b[0;34m)\u001b[0m\u001b[0;34m\u001b[0m\u001b[0;34m\u001b[0m\u001b[0m\n\u001b[0m\u001b[1;32m   7357\u001b[0m \u001b[0;34m\u001b[0m\u001b[0m\n\u001b[1;32m   7358\u001b[0m     \u001b[0;31m# don't force copy because getting jammed in an ndarray anyway\u001b[0m\u001b[0;34m\u001b[0m\u001b[0;34m\u001b[0m\u001b[0;34m\u001b[0m\u001b[0m\n",
      "\u001b[0;32m~/miniconda3/envs/hkjc/lib/python3.7/site-packages/pandas/core/frame.py\u001b[0m in \u001b[0;36mextract_index\u001b[0;34m(data)\u001b[0m\n\u001b[1;32m   7400\u001b[0m             \u001b[0mlengths\u001b[0m \u001b[0;34m=\u001b[0m \u001b[0mlist\u001b[0m\u001b[0;34m(\u001b[0m\u001b[0mset\u001b[0m\u001b[0;34m(\u001b[0m\u001b[0mraw_lengths\u001b[0m\u001b[0;34m)\u001b[0m\u001b[0;34m)\u001b[0m\u001b[0;34m\u001b[0m\u001b[0;34m\u001b[0m\u001b[0m\n\u001b[1;32m   7401\u001b[0m             \u001b[0;32mif\u001b[0m \u001b[0mlen\u001b[0m\u001b[0;34m(\u001b[0m\u001b[0mlengths\u001b[0m\u001b[0;34m)\u001b[0m \u001b[0;34m>\u001b[0m \u001b[0;36m1\u001b[0m\u001b[0;34m:\u001b[0m\u001b[0;34m\u001b[0m\u001b[0;34m\u001b[0m\u001b[0m\n\u001b[0;32m-> 7402\u001b[0;31m                 \u001b[0;32mraise\u001b[0m \u001b[0mValueError\u001b[0m\u001b[0;34m(\u001b[0m\u001b[0;34m'arrays must all be same length'\u001b[0m\u001b[0;34m)\u001b[0m\u001b[0;34m\u001b[0m\u001b[0;34m\u001b[0m\u001b[0m\n\u001b[0m\u001b[1;32m   7403\u001b[0m \u001b[0;34m\u001b[0m\u001b[0m\n\u001b[1;32m   7404\u001b[0m             \u001b[0;32mif\u001b[0m \u001b[0mhave_dicts\u001b[0m\u001b[0;34m:\u001b[0m\u001b[0;34m\u001b[0m\u001b[0;34m\u001b[0m\u001b[0m\n",
      "\u001b[0;31mValueError\u001b[0m: arrays must all be same length"
     ]
    }
   ],
   "source": [
    "\n",
    "#races_table.merge(race, how=\"left\", on=[\"date\", \"race_number\"])\n",
    "#race\n",
    "\n",
    "get_horse_placement(driver)\n"
   ]
  },
  {
   "cell_type": "code",
   "execution_count": null,
   "metadata": {},
   "outputs": [],
   "source": [
    "\n"
   ]
  }
 ],
 "metadata": {
  "kernelspec": {
   "display_name": "Python 3",
   "language": "python",
   "name": "python3"
  },
  "language_info": {
   "codemirror_mode": {
    "name": "ipython",
    "version": 3
   },
   "file_extension": ".py",
   "mimetype": "text/x-python",
   "name": "python",
   "nbconvert_exporter": "python",
   "pygments_lexer": "ipython3",
   "version": "3.7.1"
  }
 },
 "nbformat": 4,
 "nbformat_minor": 2
}
